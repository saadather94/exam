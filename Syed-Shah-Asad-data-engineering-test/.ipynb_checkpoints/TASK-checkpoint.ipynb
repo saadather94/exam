{
 "cells": [
  {
   "cell_type": "code",
   "execution_count": null,
   "id": "355d31c6-eaf2-4c69-9ae1-2990a5079b71",
   "metadata": {},
   "outputs": [],
   "source": []
  },
  {
   "cell_type": "code",
   "execution_count": 1,
   "id": "a5157444-6bd7-4caf-ad3b-9cfdb0e7fa59",
   "metadata": {},
   "outputs": [],
   "source": [
    "\n",
    "## Importing Libraries and creating session\n",
    "\n",
    "import findspark\n",
    "findspark.init()\n",
    "import pyspark\n",
    "from pyspark.sql import SparkSession as ss\n",
    "from pyspark.sql.functions import regexp_extract, regexp_replace,avg, udf\n",
    "from pyspark.sql.functions import round as Round\n",
    "from pyspark.sql.functions import col, when\n",
    "from pyspark.sql.functions import to_date\n",
    "from pyspark.sql.functions import lower\n",
    "from pyspark.sql.types import IntegerType\n",
    "import re, glob\n",
    "from statistics import mean\n",
    "\n",
    "spark = ss.builder.appName('ADDO-EXAM').getOrCreate()\n",
    "sc= spark.sparkContext\n"
   ]
  },
  {
   "cell_type": "code",
   "execution_count": 3,
   "id": "417b7e4d-8d45-4af4-bc6e-933bf49adc22",
   "metadata": {},
   "outputs": [],
   "source": [
    "df = spark.read.json('input/recipes-000.json')"
   ]
  },
  {
   "cell_type": "code",
   "execution_count": 4,
   "id": "addd2876-0d03-484d-88e6-33f25a311c5d",
   "metadata": {},
   "outputs": [
    {
     "name": "stdout",
     "output_type": "stream",
     "text": [
      "root\n",
      " |-- cookTime: string (nullable = true)\n",
      " |-- datePublished: string (nullable = true)\n",
      " |-- description: string (nullable = true)\n",
      " |-- image: string (nullable = true)\n",
      " |-- ingredients: string (nullable = true)\n",
      " |-- name: string (nullable = true)\n",
      " |-- prepTime: string (nullable = true)\n",
      " |-- recipeYield: string (nullable = true)\n",
      " |-- url: string (nullable = true)\n",
      "\n"
     ]
    }
   ],
   "source": [
    "df.printSchema()\n"
   ]
  },
  {
   "cell_type": "code",
   "execution_count": 5,
   "id": "1c61a220-c1e1-4261-b29d-9e1bd4d0c4e2",
   "metadata": {},
   "outputs": [],
   "source": [
    "df2 = df.select(\"datePublished\",\"name\",\"cookTime\",\"ingredients\",\"prepTime\",\"recipeYield\")"
   ]
  },
  {
   "cell_type": "code",
   "execution_count": 6,
   "id": "b46446ba-e534-4d96-bbf3-4d95a51268d2",
   "metadata": {},
   "outputs": [
    {
     "name": "stdout",
     "output_type": "stream",
     "text": [
      "root\n",
      " |-- datePublished: string (nullable = true)\n",
      " |-- name: string (nullable = true)\n",
      " |-- cookTime: string (nullable = true)\n",
      " |-- ingredients: string (nullable = true)\n",
      " |-- prepTime: string (nullable = true)\n",
      " |-- recipeYield: string (nullable = true)\n",
      "\n"
     ]
    }
   ],
   "source": [
    "df2.printSchema()"
   ]
  },
  {
   "cell_type": "code",
   "execution_count": 7,
   "id": "58bc1d8e-f0f7-4c74-a470-9b24363fb9b5",
   "metadata": {},
   "outputs": [
    {
     "name": "stdout",
     "output_type": "stream",
     "text": [
      "+-------------+--------------------+--------+--------------------+--------+-----------+\n",
      "|datePublished|                name|cookTime|         ingredients|prepTime|recipeYield|\n",
      "+-------------+--------------------+--------+--------------------+--------+-----------+\n",
      "|   2010-10-14|Creamy Cheese Gri...|   PT45M|4-1/2 cups Water\\...|    PT5M|          8|\n",
      "|   2010-10-20|     Big Steak Salad|   PT20M|2 whole Rib-eye O...|    PT1M|          4|\n",
      "|   2010-10-26|My Favorite Turke...|   PT15M|3 cups Apple Juic...|   PT10M|         18|\n",
      "|   2010-10-27|Spaghetti Squash ...|    PT1H|2 whole Medium Sp...|   PT10M|          8|\n",
      "|   2010-11-01|Pear Clafouti, Th...|   PT45M|2 whole Pears\\n2 ...|   PT15M|         12|\n",
      "+-------------+--------------------+--------+--------------------+--------+-----------+\n",
      "only showing top 5 rows\n",
      "\n"
     ]
    }
   ],
   "source": [
    "df2.show(5)\n",
    "\n"
   ]
  },
  {
   "cell_type": "code",
   "execution_count": 8,
   "id": "65f16f86-c21f-4927-be0f-055c8b5cc871",
   "metadata": {
    "tags": []
   },
   "outputs": [],
   "source": [
    "###########################################################\n",
    "#### Function to extract the Time per dish in minutes #####\n",
    "###########################################################\n",
    "\n",
    "def get_time(ISOtime_):\n",
    "    hours = 0\n",
    "    minutes = 0\n",
    "    \n",
    "    # Match for hours\n",
    "    hours_match = re.search(r'(\\d+)H', ISOtime_)\n",
    "    if hours_match:\n",
    "        hours = int(hours_match.group(1))\n",
    "        \n",
    "    # Match for minutes\n",
    "    minutes_match = re.search(r'(\\d+)M', ISOtime_)\n",
    "    if minutes_match:\n",
    "        minutes = int(minutes_match.group(1))\n",
    "        \n",
    "    # Calculate total minutes\n",
    "    total_minutes = hours * 60 + minutes\n",
    "    return total_minutes\n",
    "\n",
    "###################################################\n",
    "#### Function to extract the serving per dish #####\n",
    "###################################################\n",
    "\n",
    "def extract_serving_value(s):\n",
    "    num_regex = re.compile(r'\\d+')\n",
    "    if len(s)==1 and isinstance(s,int):\n",
    "        return (s)\n",
    "    else:\n",
    "        nums = [int(num) for num in num_regex.findall(s)]\n",
    "        return (mean(nums)) if nums else (1)\n",
    "\n"
   ]
  },
  {
   "cell_type": "code",
   "execution_count": 9,
   "id": "b76b1d63-50b9-4985-835b-deaaa50169ef",
   "metadata": {
    "tags": []
   },
   "outputs": [],
   "source": [
    "def PrePocessing(df2):\n",
    "\n",
    "    ####################################\n",
    "    ##### Operation on datePublished ###\n",
    "    ####################################\n",
    "\n",
    "    # Converting the date to Date format from string\n",
    "    df2 = df2.withColumn(\"Date Published\", to_date(df2[\"datePublished\"]))\n",
    "\n",
    "\n",
    "    ####################################\n",
    "    ##### Operation on Name Column #####\n",
    "    ####################################\n",
    "\n",
    "\n",
    "    # Remove extra spaces, punctuations and lower casing from the 'name' column\n",
    "    df2 = df2.withColumn('Dish_Name', regexp_replace('name', '[^\\w\\s]+', '').alias('Name'))\n",
    "    df2 = df2.withColumn('Dish_Name', regexp_replace('name', '\\s+', ' ').alias('Name'))\n",
    "    df2 = df2.withColumn('Dish_Name', lower(df['name']))\n",
    "\n",
    "\n",
    "    ####################################\n",
    "    ##### Operation on Ingredients #####\n",
    "    ####################################\n",
    "\n",
    "\n",
    "    # Remove extra spaces, punctuations and lower casing from the 'ingredients' column\n",
    "    df2 = df2.withColumn('Ingridients', regexp_replace('ingredients', '[^\\w\\s]+', '').alias('Ingridients'))\n",
    "    df2 = df2.withColumn('Ingridients', regexp_replace('ingredients', '\\s+', ' ').alias('Ingridients'))\n",
    "    df2 = df2.withColumn('Ingridients', lower(df['ingredients']))\n",
    "\n",
    "\n",
    "    ####################################\n",
    "    ##### Operation on Cook Time #######\n",
    "    ####################################\n",
    "\n",
    "    # Getting cook time in minutes \n",
    "    cooktime_func = udf(get_time, IntegerType())\n",
    "\n",
    "    # Applying the Function to cooktime column\n",
    "    df2 = df2.withColumn('Cook_Time', cooktime_func(df['cookTime']))\n",
    "\n",
    "    # Replace null values with the mean of previous values\n",
    "    mean_val_CT = df2.select(avg(col('Cook_Time'))).collect()[0][0]\n",
    "    df2 = df2.fillna({'Cook_Time': mean_val_CT})\n",
    "\n",
    "    # Round the values of newly added cook and prep columns\n",
    "    df2 = df2.withColumn('Cook_Time', Round(col('Cook_Time'), 0))\n",
    "\n",
    "\n",
    "    ####################################\n",
    "    ##### Operation on Prep Time #######\n",
    "    ####################################\n",
    "\n",
    "    # Getting Prep time in minutes \n",
    "    preptime_func = udf(get_time, IntegerType())\n",
    "\n",
    "    # Applying the Function to preptime column\n",
    "    df2 = df2.withColumn('Prep_Time', preptime_func(df['prepTime']))\n",
    "\n",
    "    # Replace null values with the mean of previous values\n",
    "    mean_val_PT = df2.select(avg(col('Prep_Time'))).collect()[0][0]\n",
    "    df2 = df2.fillna({'Prep_Time': mean_val_PT})\n",
    "\n",
    "    # Round the values of newly added cook and prep columns\n",
    "    df2 = df2.withColumn('Prep_Time', Round(col('Prep_Time'), 0))\n",
    "\n",
    "    ####################################\n",
    "    ##### Operation on recipeYield #####\n",
    "    ####################################\n",
    "\n",
    "\n",
    "    # Getting the Serving per dish \n",
    "    serving_func = udf(extract_serving_value, IntegerType())\n",
    "    df2 = df2.withColumn('Serving', serving_func(df2['recipeYield']))\n",
    "\n",
    "    # Round the values of newly added cook and prep columns\n",
    "    df2 = df2.withColumn('Serving', Round(col('Serving'), 0))\n",
    "\n",
    "\n",
    "\n",
    "    # Drop the old columns\n",
    "    df2 = df2.drop('cookTime')\n",
    "    df2 = df2.drop('prepTime')\n",
    "    df2 = df2.drop('name')\n",
    "    df2 = df2.drop('datePublished')\n",
    "    df2 = df2.drop('recipeYield')\n",
    "    df2 = df2.drop('ingredients')\n",
    "\n",
    "    return df2\n",
    "\n",
    "\n"
   ]
  },
  {
   "cell_type": "code",
   "execution_count": 10,
   "id": "d77e858f-c632-460a-accc-ea60fd51026a",
   "metadata": {
    "tags": []
   },
   "outputs": [],
   "source": [
    "def TASK2DF(df2):\n",
    "\n",
    "\n",
    "  # Create a new column by adding two existing columns\n",
    "  df2 = df2.withColumn('Total_cook_time', col('Cook_Time') + col('Prep_Time'))\n",
    "\n",
    "  # Create a new column based on the value of the 'sum' column\n",
    "  df2 = df2.withColumn('Difficulty', when(col('Total_cook_time') < 30, 'Easy')\n",
    "                                    .when((col('Total_cook_time') >= 30) & (col('Total_cook_time') <= 60), 'Medium')\n",
    "                                    .when(col('Total_cook_time') > 60, 'Hard'))\n",
    "\n",
    "\n",
    "  return df2\n",
    "\n"
   ]
  },
  {
   "cell_type": "code",
   "execution_count": 13,
   "id": "d87d36e1-e2db-4a3d-925c-43fe3595e982",
   "metadata": {
    "tags": []
   },
   "outputs": [],
   "source": [
    " \n",
    "\n",
    "files = []\n",
    "for file in glob.glob(\"input/*.json\"):\n",
    "    files.append(file)\n",
    "\n",
    "    # Go through local directory and read json file then created a dataframe\n",
    "    df = spark.read.json(files)\n",
    "    \n",
    "    #selecting columns that are useful\n",
    "    df2 = df.select(\"datePublished\",\"name\",\"cookTime\",\"ingredients\",\"prepTime\",\"recipeYield\")\n",
    "    \n",
    "    # TASK 1 \n",
    "    df2 = PrePocessing(df2) \n",
    "\n",
    "    # Persist the processed dataframe for future processing\n",
    "    df2 = df2.persist()\n",
    "\n",
    "    # TASK 2\n",
    "    df2 = TASK2DF(df2)    \n",
    "    # Beef Recipe Extraction  \n",
    "    df2.createOrReplaceTempView('EXAM')\n",
    "    beef_recipe = spark.sql(\"select * from EXAM where (Ingridients like '%beef%') or (Dish_Name like '%beef%')\")\n",
    "\n",
    "    # Calculating average cooking time duration per difficulty level of the whole dataset.\n",
    "    df2.createOrReplaceTempView('AvgCookDiff')\n",
    "    Avg_T_D = spark.sql(\"select Difficulty , ROUND(AVG(Total_cook_time),0) as AVGCook_Time from AvgCookDiff group by Difficulty\")\n",
    "\n",
    "\n",
    "    \n",
    "    #Writing the final beef recipies to the local disk in CSV format\n",
    "    Avg_T_D.write.format(\"csv\").option(\"header\", \"true\").mode(\"overwrite\").save(f\"output\")\n"
   ]
  },
  {
   "cell_type": "code",
   "execution_count": 12,
   "id": "a7b57222-9f2d-40da-bc9b-bddb69cef04b",
   "metadata": {},
   "outputs": [
    {
     "data": {
      "text/plain": [
       "['input\\\\recipes-000.json',\n",
       " 'input\\\\recipes-001.json',\n",
       " 'input\\\\recipes-002.json']"
      ]
     },
     "execution_count": 12,
     "metadata": {},
     "output_type": "execute_result"
    }
   ],
   "source": [
    "files"
   ]
  },
  {
   "cell_type": "code",
   "execution_count": null,
   "id": "0ff9a983-c6ed-4164-b908-a6232e1ba3ee",
   "metadata": {},
   "outputs": [],
   "source": []
  },
  {
   "cell_type": "code",
   "execution_count": null,
   "id": "21ec9053-d8c5-4660-88e1-414f9f569d7d",
   "metadata": {},
   "outputs": [],
   "source": []
  },
  {
   "cell_type": "code",
   "execution_count": null,
   "id": "a7838ca6-bf83-4df7-abde-ed29839cd3cd",
   "metadata": {},
   "outputs": [],
   "source": []
  },
  {
   "cell_type": "code",
   "execution_count": null,
   "id": "de912fc2-9255-412a-9ae5-832ea83cd0fd",
   "metadata": {},
   "outputs": [],
   "source": []
  },
  {
   "cell_type": "code",
   "execution_count": null,
   "id": "db4b52ec-6778-4055-bf44-3dda02429ff2",
   "metadata": {},
   "outputs": [],
   "source": []
  }
 ],
 "metadata": {
  "kernelspec": {
   "display_name": "Python 3 (ipykernel)",
   "language": "python",
   "name": "python3"
  },
  "language_info": {
   "codemirror_mode": {
    "name": "ipython",
    "version": 3
   },
   "file_extension": ".py",
   "mimetype": "text/x-python",
   "name": "python",
   "nbconvert_exporter": "python",
   "pygments_lexer": "ipython3",
   "version": "3.9.7"
  }
 },
 "nbformat": 4,
 "nbformat_minor": 5
}
