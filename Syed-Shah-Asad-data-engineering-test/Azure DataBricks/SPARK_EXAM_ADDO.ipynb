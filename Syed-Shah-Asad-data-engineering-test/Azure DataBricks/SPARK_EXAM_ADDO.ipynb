{
 "cells": [
  {
   "cell_type": "code",
   "execution_count": null,
   "metadata": {
    "application/vnd.databricks.v1+cell": {
     "cellMetadata": {
      "byteLimit": 2048000,
      "rowLimit": 10000
     },
     "inputWidgets": {},
     "nuid": "5e090e80-64b0-42c6-9dbd-81bcffc09048",
     "showTitle": false,
     "title": ""
    }
   },
   "outputs": [],
   "source": [
    "\n",
    "## Importing Libraries\n",
    "\n",
    "import pyspark\n",
    "from pyspark.sql import SparkSession as ss\n",
    "from pyspark.sql.functions import regexp_extract, regexp_replace,avg, udf\n",
    "from pyspark.sql.functions import round as Round\n",
    "from pyspark.sql.functions import col, when\n",
    "from pyspark.sql.functions import to_date\n",
    "from pyspark.sql.functions import lower\n",
    "from pyspark.sql.types import IntegerType\n",
    "import re\n",
    "from statistics import mean\n",
    "\n",
    "\n",
    "spark = ss.builder.appName('ADDO-EXAM').getOrCreate()\n",
    "sc= spark.sparkContext\n"
   ]
  },
  {
   "cell_type": "markdown",
   "metadata": {
    "application/vnd.databricks.v1+cell": {
     "cellMetadata": {
      "byteLimit": 2048000,
      "rowLimit": 10000
     },
     "inputWidgets": {},
     "nuid": "675e159a-c33b-4412-8842-61a89b41560b",
     "showTitle": false,
     "title": ""
    }
   },
   "source": [
    "**Note:**\n",
    "For this task I had uploaded the recipe files to my Azure storage and perform operations by reading them from the Azure blob storage, since in real time enviroment the data is being stored on the cloud storage so it make sense to do this way by storing files on cloud and then performing spark tasks."
   ]
  },
  {
   "cell_type": "code",
   "execution_count": null,
   "metadata": {
    "application/vnd.databricks.v1+cell": {
     "cellMetadata": {
      "byteLimit": 2048000,
      "rowLimit": 10000
     },
     "inputWidgets": {},
     "nuid": "c760fc54-dbf0-4715-8df6-8fdff699c029",
     "showTitle": false,
     "title": ""
    }
   },
   "outputs": [],
   "source": [
    "# Authentication to access the files on my Azure storage\n",
    "storage_account_name = \"sparkexamstorage\"  \n",
    "storage_account_access_key = \"QmRcItJlh4AE8ba/9x8sQSs2D6DhsusEf2CtNIiZBQRCBP84mRJR8eprOFGjeNtn5xzqzpAZu1XS+AStyAzBWg==\"\n",
    "\n",
    "# Containers on Azure Storage\n",
    "inp_container = \"data\" ## Container name where recipies are present \n",
    "inp_file_type = \"json\"\n",
    "\n",
    "out_container = \"output\" ## Container name where final result file containg only the beef recipies\n",
    "out_file_type = \"csv\"\n",
    "\n"
   ]
  },
  {
   "cell_type": "code",
   "execution_count": null,
   "metadata": {
    "application/vnd.databricks.v1+cell": {
     "cellMetadata": {
      "byteLimit": 2048000,
      "rowLimit": 10000
     },
     "inputWidgets": {},
     "nuid": "8acc0dda-69e3-4817-bf5d-450562afe113",
     "showTitle": false,
     "title": ""
    }
   },
   "outputs": [],
   "source": [
    "# Configuring for Spark Application\n",
    "spark.conf.set(\n",
    "  \"fs.azure.account.key.\"+storage_account_name+\".blob.core.windows.net\",\n",
    "  storage_account_access_key)"
   ]
  },
  {
   "cell_type": "code",
   "execution_count": null,
   "metadata": {
    "application/vnd.databricks.v1+cell": {
     "cellMetadata": {
      "byteLimit": 2048000,
      "rowLimit": 10000
     },
     "inputWidgets": {},
     "nuid": "d5ad4a72-11fa-43a5-a75d-2bd0cd7a53b2",
     "showTitle": false,
     "title": ""
    }
   },
   "outputs": [],
   "source": [
    "input_loc = dbutils.fs.ls(f\"wasbs://{inp_container}@{storage_account_name}.blob.core.windows.net/\")\n",
    "\n",
    "output_container_path = f\"wasbs://{out_container}@{storage_account_name}.blob.core.windows.net/\""
   ]
  },
  {
   "cell_type": "markdown",
   "metadata": {
    "application/vnd.databricks.v1+cell": {
     "cellMetadata": {
      "byteLimit": 2048000,
      "rowLimit": 10000
     },
     "inputWidgets": {},
     "nuid": "306c4e33-1ecd-4745-b3a4-1068ef5d4d38",
     "showTitle": false,
     "title": ""
    }
   },
   "source": [
    "### TASK 1"
   ]
  },
  {
   "cell_type": "code",
   "execution_count": null,
   "metadata": {
    "application/vnd.databricks.v1+cell": {
     "cellMetadata": {
      "byteLimit": 2048000,
      "rowLimit": 10000
     },
     "inputWidgets": {},
     "nuid": "38ce1774-3ac1-4e7a-bc46-4841f7ef245c",
     "showTitle": false,
     "title": ""
    }
   },
   "outputs": [],
   "source": [
    "\n",
    "# Since all the column are in string format and need to be corected according to the requiremnet:\n",
    "# > Time is given in ISO format need to extract time in minutes.\n",
    "# > Dish per person serving needs to be extracted from recipeYield columns \n",
    "# > Filling/removing of Null record.\n",
    "# > Removing extra spaces/punctuations from description and ingredients columns.\n",
    "# \n",
    "# Therefore for sucessful task completion for that some functions are needed to be defined as:\n",
    "\n",
    "\n",
    "###########################################################\n",
    "#### Function to extract the Time per dish in minutes #####\n",
    "###########################################################\n",
    "\n",
    "def get_time(ISOtime_):\n",
    "    hours = 0\n",
    "    minutes = 0\n",
    "    \n",
    "    # extract hours, based on regular expression\n",
    "    hours_match = re.search(r'(\\d+)H', ISOtime_)\n",
    "    if hours_match:\n",
    "        hours = int(hours_match.group(1))\n",
    "        \n",
    "    # extract minutes, based on regular expression\n",
    "    minutes_match = re.search(r'(\\d+)M', ISOtime_)\n",
    "    if minutes_match:\n",
    "        minutes = int(minutes_match.group(1))\n",
    "        \n",
    "    # Calculate total minutes\n",
    "    total_minutes = hours * 60 + minutes\n",
    "    return total_minutes\n",
    "\n",
    "###################################################\n",
    "#### Function to extract the serving per dish #####\n",
    "###################################################\n",
    "\n",
    "def extract_serving_value(s):\n",
    "    num_regex = re.compile(r'\\d+')\n",
    "    if len(s)==1 and isinstance(s,int):\n",
    "        return (s)\n",
    "    else:\n",
    "        nums = [int(num) for num in num_regex.findall(s)]\n",
    "        return (mean(nums)) if nums else (1)\n",
    "\n",
    "  "
   ]
  },
  {
   "cell_type": "code",
   "execution_count": null,
   "metadata": {
    "application/vnd.databricks.v1+cell": {
     "cellMetadata": {
      "byteLimit": 2048000,
      "rowLimit": 10000
     },
     "inputWidgets": {},
     "nuid": "6f48449d-6c8f-48e2-9951-7d14120b8c19",
     "showTitle": false,
     "title": ""
    }
   },
   "outputs": [],
   "source": [
    "\n",
    "###########################################################\n",
    "##### TASK 1 ##############################################\n",
    "########################################################### \n",
    "\n",
    "def PrePocessing(df):\n",
    "\n",
    "\n",
    "  df2 = df.select(\"datePublished\",\"name\",\"cookTime\",\"ingredients\",\"prepTime\",\"recipeYield\")\n",
    "\n",
    "  ####################################\n",
    "  ##### Operation on datePublished ###\n",
    "  ####################################\n",
    "\n",
    "  # Converting the date to Date format from string\n",
    "  df2 = df2.withColumn(\"Date Published\", to_date(df2[\"datePublished\"]))\n",
    "\n",
    "\n",
    "  ####################################\n",
    "  ##### Operation on Name Column #####\n",
    "  ####################################\n",
    "\n",
    "\n",
    "  # Remove extra spaces, punctuations and lower casing from the 'name' column\n",
    "  df2 = df2.withColumn('Dish_Name', regexp_replace('name', '[^\\w\\s]+', '').alias('Name'))\n",
    "  df2 = df2.withColumn('Dish_Name', regexp_replace('name', '\\s+', ' ').alias('Name'))\n",
    "  df2 = df2.withColumn('Dish_Name', lower(df2['name']))\n",
    "\n",
    "\n",
    "  ####################################\n",
    "  ##### Operation on Ingredients #####\n",
    "  ####################################\n",
    "\n",
    "\n",
    "  # Remove extra spaces, punctuations and lower casing from the 'ingredients' column\n",
    "  df2 = df2.withColumn('Ingridients', regexp_replace('ingredients', '[^\\w\\s]+', '').alias('Ingridients'))\n",
    "  df2 = df2.withColumn('Ingridients', regexp_replace('ingredients', '\\s+', ' ').alias('Ingridients'))\n",
    "  df2 = df2.withColumn('Ingridients', lower(df2['ingredients']))\n",
    "\n",
    "\n",
    "  ####################################\n",
    "  ##### Operation on Cook Time #######\n",
    "  ####################################\n",
    "\n",
    "  # Getting cook time in minutes \n",
    "  cooktime_func = udf(get_time, IntegerType())\n",
    "\n",
    "  # Applying the Function to cooktime column\n",
    "  df2 = df2.withColumn('Cook_Time', cooktime_func(df2['cookTime']))\n",
    "\n",
    "  # Replace null values with the mean of previous values\n",
    "  mean_val_CT = df2.select(avg(col('Cook_Time'))).collect()[0][0]\n",
    "  df2 = df2.fillna({'Cook_Time': mean_val_CT})\n",
    "\n",
    "  # Round the values of newly added cook and prep columns\n",
    "  df2 = df2.withColumn('Cook_Time', Round(col('Cook_Time'), 0))\n",
    "\n",
    "\n",
    "  ####################################\n",
    "  ##### Operation on Prep Time #######\n",
    "  ####################################\n",
    "\n",
    "  # Getting Prep time in minutes \n",
    "  preptime_func = udf(get_time, IntegerType())\n",
    "\n",
    "  # Applying the Function to preptime column\n",
    "  df2 = df2.withColumn('Prep_Time', preptime_func(df2['prepTime']))\n",
    "\n",
    "  # Replace null values with the mean of previous values\n",
    "  mean_val_PT = df2.select(avg(col('Prep_Time'))).collect()[0][0]\n",
    "  df2 = df2.fillna({'Prep_Time': mean_val_PT})\n",
    "\n",
    "  # Round the values of newly added cook and prep columns\n",
    "  df2 = df2.withColumn('Prep_Time', Round(col('Prep_Time'), 0))\n",
    "\n",
    "  ####################################\n",
    "  ##### Operation on recipeYield #####\n",
    "  ####################################\n",
    "\n",
    "\n",
    "  # Getting the Serving per dish \n",
    "  serving_func = udf(extract_serving_value, IntegerType())\n",
    "  df2 = df2.withColumn('Serving', serving_func(df2['recipeYield']))\n",
    "\n",
    "  # Round the values of newly added cook and prep columns\n",
    "  df2 = df2.withColumn('Serving', Round(col('Serving'), 0))\n",
    "\n",
    "\n",
    "\n",
    "  # Drop the old columns\n",
    "  df2 = df2.drop('cookTime')\n",
    "  df2 = df2.drop('prepTime')\n",
    "  df2 = df2.drop('name')\n",
    "  df2 = df2.drop('datePublished')\n",
    "  df2 = df2.drop('recipeYield')\n",
    "  df2 = df2.drop('ingredients')\n",
    "\n",
    "  return df2\n",
    "\n",
    "\n",
    "\n",
    "\n"
   ]
  },
  {
   "cell_type": "markdown",
   "metadata": {
    "application/vnd.databricks.v1+cell": {
     "cellMetadata": {
      "byteLimit": 2048000,
      "rowLimit": 10000
     },
     "inputWidgets": {},
     "nuid": "4e9e4d06-ae1a-44e9-b7b6-3e640223b0b8",
     "showTitle": false,
     "title": ""
    }
   },
   "source": [
    "### TASK 2"
   ]
  },
  {
   "cell_type": "code",
   "execution_count": null,
   "metadata": {
    "application/vnd.databricks.v1+cell": {
     "cellMetadata": {
      "byteLimit": 2048000,
      "rowLimit": 10000
     },
     "inputWidgets": {},
     "nuid": "77ad83c8-9cfd-4a1d-aa00-e695284bee67",
     "showTitle": false,
     "title": ""
    }
   },
   "outputs": [],
   "source": [
    "\n",
    "###########################################################\n",
    "##### TASK 2 ##############################################\n",
    "########################################################### \n",
    "\n",
    "def BeefRecipies(df2):\n",
    "\n",
    "\n",
    "  # Create a new column by adding two existing columns\n",
    "  df2 = df2.withColumn('Total_cook_time', col('Cook_Time') + col('Prep_Time'))\n",
    "\n",
    "  # Create a new column based on the value of the 'sum' column\n",
    "  df2 = df2.withColumn('Difficulty', when(col('Total_cook_time') < 30, 'Easy')\n",
    "                                    .when((col('Total_cook_time') >= 30) & (col('Total_cook_time') <= 60), 'Medium')\n",
    "                                    .when(col('Total_cook_time') > 60, 'Hard'))\n",
    "\n",
    "\n",
    "\n",
    "  # Creating a table EXAM from dataframe, for quering the beef from record\n",
    "  df2.createOrReplaceTempView('RECIPE')\n",
    "\n",
    "  # SQL query that shows the dishes having beef in their ingredites or in dish name \n",
    "  beef_recipe = spark.sql(\"select * from RECIPE where (Ingridients like '%beef%') or (Dish_Name like '%beef%')\")\n",
    "\n",
    "  return beef_recipe\n",
    "\n",
    "\n",
    "\n",
    "  "
   ]
  },
  {
   "cell_type": "code",
   "execution_count": null,
   "metadata": {
    "application/vnd.databricks.v1+cell": {
     "cellMetadata": {
      "byteLimit": 2048000,
      "rowLimit": 10000
     },
     "inputWidgets": {},
     "nuid": "35032649-c9a8-411d-8abc-4d84efb9f240",
     "showTitle": false,
     "title": ""
    }
   },
   "outputs": [],
   "source": [
    "# Creating dict of dataframes based on recipies\n",
    "df = {}\n",
    "\n",
    "# Iterate over all the saved records on the cloud storage and perform operations based on our tasks requirement.\n",
    "for l in range(len(input_loc)):\n",
    "  file_location = input_loc[l][0]\n",
    "  df[file_location[-16:-5]] = spark.read.format(inp_file_type).load(file_location)\n",
    "  output_folder = f\"wasbs://{out_container}@{storage_account_name}.blob.core.windows.net/Output-{file_location[-16:-5]}/\"\n",
    "\n",
    "  # ##### TASK 1 \n",
    "  df2 = PrePocessing(df[file_location[-16:-5]]) \n",
    "\n",
    "  # Persist the dataframe for future processing\n",
    "  df[file_location[-16:-5]] = df2.persist()           ## df[file_location[-16:-5]] is dataframe of each recipe e.g: df['recipe-000'] contains\n",
    "                                                      ## preprossed record of recipe-000 file and so on \n",
    "\n",
    "  # ##### TASK 2\n",
    "  df2 = BeefRecipies(df[file_location[-16:-5]])\n",
    "\n",
    "\n",
    "  ##### Writing the final output to the Azure cloud storage  \n",
    "  (df2.coalesce(1).write.mode(\"overwrite\").option(\"header\", \"true\").format(out_file_type).save(output_folder))\n",
    "\n",
    "  # Get the name of the output recipe CSV file that was just saved to Azure blob storage.\n",
    "  files = dbutils.fs.ls(output_folder)\n",
    "  output_file = [x for x in files if x.name.startswith(\"part-\")]\n",
    "\n",
    "  # Renameing the file name since the save file has a very large name\n",
    "  dbutils.fs.mv(output_file[0].path,f\"{output_container_path}/Output-{file_location[-16:-5]}/Final-Recipee-{file_location[-8:-5]}.csv\")\n",
    "\n",
    "  #break\n",
    "\n",
    "# df2.show(5)\n",
    "\n",
    "\n"
   ]
  },
  {
   "cell_type": "markdown",
   "metadata": {
    "application/vnd.databricks.v1+cell": {
     "cellMetadata": {
      "byteLimit": 2048000,
      "rowLimit": 10000
     },
     "inputWidgets": {},
     "nuid": "6e37f6ad-6034-4b8d-8f28-fa6858210d42",
     "showTitle": false,
     "title": ""
    }
   },
   "source": [
    "### CREATING DASHBOARD"
   ]
  },
  {
   "cell_type": "code",
   "execution_count": null,
   "metadata": {
    "application/vnd.databricks.v1+cell": {
     "cellMetadata": {
      "byteLimit": 2048000,
      "rowLimit": 10000
     },
     "inputWidgets": {},
     "nuid": "ea5839a4-9e23-4ec7-98a4-dcc755d60dac",
     "showTitle": false,
     "title": ""
    }
   },
   "outputs": [],
   "source": [
    "finalDF = BeefRecipies(df['recipes-000'].union(df['recipes-001']).union(df['recipes-002']))\n"
   ]
  },
  {
   "cell_type": "code",
   "execution_count": null,
   "metadata": {
    "application/vnd.databricks.v1+cell": {
     "cellMetadata": {
      "byteLimit": 2048000,
      "rowLimit": 10000
     },
     "inputWidgets": {},
     "nuid": "0677b44f-50f3-4130-bd03-af78ee959ad6",
     "showTitle": false,
     "title": ""
    }
   },
   "outputs": [
    {
     "data": {
      "text/html": [
       "<style scoped>\n",
       "  .table-result-container {\n",
       "    max-height: 300px;\n",
       "    overflow: auto;\n",
       "  }\n",
       "  table, th, td {\n",
       "    border: 1px solid black;\n",
       "    border-collapse: collapse;\n",
       "  }\n",
       "  th, td {\n",
       "    padding: 5px;\n",
       "  }\n",
       "  th {\n",
       "    text-align: left;\n",
       "  }\n",
       "</style><div class='table-result-container'><table class='table-result'><thead style='background-color: white'><tr><th>Date Published</th><th>Dish_Name</th><th>Ingridients</th><th>Cook_Time</th><th>Prep_Time</th><th>Serving</th><th>Total_cook_time</th><th>Difficulty</th></tr></thead><tbody><tr><td>2010-11-23</td><td>french onion soup stuffed mushrooms</td><td>2 tablespoons butter\n",
       "2 whole large onions, halved and sliced thin\n",
       "1/4 cup beef broth\n",
       "7 dashes worcestershire sauce\n",
       " splash of red or white wine\n",
       "1/2 cup grated gruyere cheese (can use swiss)\n",
       " kosher salt\n",
       "24 whole white or crimini mushrooms, washed and stems removed\n",
       " minced parsley</td><td>30</td><td>20</td><td>8</td><td>50</td><td>Medium</td></tr><tr><td>2012-11-26</td><td>baked ziti</td><td>2 tablespoons olive oil\n",
       "3 cloves garlic, minced\n",
       "1 whole large onion, diced\n",
       "1 pound italian sausage\n",
       "1 pound ground beef\n",
       "1 can (28 ounce can) whole tomatoes, with juice\n",
       "2 cans (14.5 ounce) tomato sauce or marinara sauce\n",
       "2 teaspoons italian seasoning\n",
       "1/2 teaspoon red pepper flakes\n",
       " salt and pepper, to taste\n",
       "16 ounces, weight ziti or mostaciolli, cooked until not quite al dente\n",
       "1 tub (15 ounce) whole milk ricotta cheese\n",
       "1-1/2 pound mozzarella cheese, grated\n",
       "1/2 cup grated parmesan cheese\n",
       "1 whole egg\n",
       " fresh minced parsley</td><td>45</td><td>15</td><td>12</td><td>60</td><td>Medium</td></tr><tr><td>2013-01-14</td><td>sunday night stew</td><td> stew\n",
       "3 tablespoons olive oil\n",
       "1 tablespoon butter\n",
       "2 pounds beef stew meat (chuck roast cut into chunks)\n",
       " salt and pepper\n",
       "1 whole medium onion, diced\n",
       "3 cloves garlic, minced\n",
       "4 ounces, weight tomato paste\n",
       "4 cups low sodium beef stock or broth, more if needed for thinning\n",
       " several dashes worcestershire\n",
       "1/2 teaspoon sugar\n",
       "4 whole carrots, peeled and diced\n",
       "2 whole turnips, peeled and diced\n",
       "2 tablespoons minced fresh parsley\n",
       " mashed potatoes\n",
       "5 pounds russet potatoes (peeled)\n",
       "1 package (8 ounce) cream cheese, softened\n",
       "1 stick butter, softened\n",
       "1/2 cup heavy cream\n",
       "1 teaspoon seasoned salt\n",
       " salt and pepper, to taste</td><td>180</td><td>15</td><td>8</td><td>195</td><td>Hard</td></tr><tr><td>2010-01-18</td><td>italian meatball soup</td><td> meatballs:\n",
       "3/4 pounds ground beef\n",
       "1/2 cup freshly grated parmesan cheese\n",
       "3 tablespoons fresh parsley, minced\n",
       "1 whole egg\n",
       "2 cloves garlic\n",
       "1/2 teaspoon salt\n",
       "1/2 teaspoon black pepper\n",
       "1/4 teaspoon ground oregano\n",
       "2 teaspoons lemon juice\n",
       " soup\n",
       "3 tablespoons olive oil\n",
       "7 cups low sodium beef stock\n",
       "2 cups water\n",
       "1/2 teaspoon salt\n",
       "2 tablespoons tomato paste\n",
       "3/4 cups onion, chopped\n",
       "3/4 cups carrots, chopped\n",
       "3/4 cups celery, chopped\n",
       "1 cup russet potato, chopped (do not peel)\n",
       "1/2 pound cabbage chopped\n",
       " grated parmesan cheese to serve\n",
       " tied in a cheesecloth bundle\n",
       "4 tablespoons fresh parsley, minced\n",
       "2 whole bay leaves\n",
       "1 teaspoon peppercorns</td><td>45</td><td>30</td><td>8</td><td>75</td><td>Hard</td></tr><tr><td>2010-02-03</td><td>drip beef, two ways</td><td>1 whole beef chuck roast, 2.5 to 4 pounds\n",
       "1 can beef consomme or beef broth\n",
       "3 tablespoons (heaping) italian seasoning\n",
       "1 teaspoon salt\n",
       "1/4 cup water\n",
       "1/2 jar (16 oz) pepperoncini peppers, with juice\n",
       " buttered, toasted deli rolls</td><td>360</td><td>5</td><td>10</td><td>365</td><td>Hard</td></tr><tr><td>2010-02-15</td><td>spaghetti &amp; meatballs</td><td> meatballs:\n",
       "3/4 pounds ground beef\n",
       "3/4 pounds ground pork\n",
       "3 cloves garlic, minced\n",
       "3/4 cups fine bread crumbs\n",
       "2 whole eggs\n",
       "3/4 cups freshly grated parmesan\n",
       "1/4 cup flat-leaf parsley, minced\n",
       "1/4 teaspoon salt\n",
       " freshly ground black pepper\n",
       " splash of milk\n",
       "1/2 cup olive oil\n",
       " sauce:\n",
       "1 whole yellow onion, diced\n",
       "3 cloves garlic, minced\n",
       "1 whole (28-ounce) can whole tomatoes\n",
       "1 whole 28 ounce can crushed tomatoes\n",
       "1/2 cup white or red wine (optional)\n",
       "1/4 teaspoon salt\n",
       "1 teaspoon sugar\n",
       " freshly ground black pepper\n",
       "1/4 cup flat-leaf parsley, minced\n",
       "8 whole fresh basil leaves, chiffonade (optional)\n",
       "2 pounds spaghetti, cooked to al dente</td><td>60</td><td>25</td><td>8</td><td>85</td><td>Hard</td></tr><tr><td>2010-03-30</td><td>passover brisket</td><td>1 whole beef brisket, trimmed of all fat (5 to 8 pounds)\n",
       "1 bottle (24 ounce) ketchup or chili sauce (make sure it's kosher)\n",
       "1 package onion soup mix (make sure it's kosher)</td><td>420</td><td>10</td><td>8</td><td>430</td><td>Hard</td></tr><tr><td>2010-04-12</td><td>sloppy joes</td><td>2 tablespoons butter\n",
       "2-1/2 pounds ground beef\n",
       "1/2 whole large onion, diced\n",
       "1 whole large green bell pepper, diced\n",
       "5 cloves garlic, minced\n",
       "1-1/2 cup ketchup\n",
       "1 cup water\n",
       "2 tablespoons brown sugar\n",
       "2 teaspoons chili powder (more to taste)\n",
       "1 teaspoon dry mustard\n",
       "1/2 teaspoon red pepper flakes (more to taste)\n",
       " worcestershire sauce, to taste\n",
       "2 tablespoons tomato paste (optional)\n",
       " tabasco sauce (optional; to taste)\n",
       " salt to taste\n",
       " freshly ground black pepper, to taste\n",
       " kaiser rolls\n",
       " butter</td><td>20</td><td>10</td><td>8</td><td>30</td><td>Medium</td></tr><tr><td>2008-06-13</td><td>cowboy nachos</td><td>2 cups pioneer woman's pinto beans from \"beans and cornbread\" recipe on tasty kitchen\n",
       " ground black pepper to taste\n",
       " tabasco sauce, to taste\n",
       " minced garlic (to desired flavor)\n",
       " jarred or fresh jalapenos (optional)\n",
       " canola oil\n",
       "2 cups pioneer woman's beef brisket from \"beef brisket\" recipe\n",
       " pan drippings from brisket or beef broth (optional)\n",
       "1 can mexican red sauce or enchilada sauce (enough to moisten beef)\n",
       "2 cups pioneer woman's pico de gallo from \"pico de gallo and guacamole\" recipe\n",
       " tortilla chips\n",
       "2 cups grated monterey jack cheese (or to taste)\n",
       " guacamole and sour cream (optional)</td><td>5</td><td>15</td><td>4</td><td>20</td><td>Easy</td></tr><tr><td>2008-09-15</td><td>enchiladas</td><td> for the sauce:\n",
       "1 tablespoon canola oil\n",
       "1 tablespoon all-purpose flour\n",
       "1 can (28 ounce) enchilada or red sauce\n",
       "2 cups chicken broth\n",
       "1/2 teaspoon salt\n",
       "1/2 teaspoon ground black pepper\n",
       "2 tablespoons chopped cilantro\n",
       " _____\n",
       " for the meat:\n",
       "1-1/2 pound ground beef\n",
       "1 whole medium onion, finely diced\n",
       "2 cans (4 ounce) diced green chilies\n",
       "1/2 teaspoon salt\n",
       " _____\n",
       " for the tortillas:\n",
       "10 whole (to 14) corn tortillas\n",
       "1/2 cup canola oil\n",
       " _____\n",
       " to assemble:\n",
       "3 cups grated sharp cheddar cheese\n",
       "1/2 cup chopped black olives\n",
       "1 cup chopped green onions\n",
       "1/2 cup chopped cilantro</td><td>20</td><td>90</td><td>6</td><td>110</td><td>Hard</td></tr><tr><td>2012-03-09</td><td>steak bites</td><td>1 pound sirloin steak (without much gristle) or pre-cut beef tips\n",
       " kosher salt to taste\n",
       " fresh ground black pepper to taste\n",
       "2 tablespoons butter</td><td>10</td><td>5</td><td>2</td><td>15</td><td>Easy</td></tr><tr><td>2009-01-25</td><td>my favorite burger</td><td>2 pounds 80/20 ground beef\n",
       "1 teaspoon salt\n",
       "1/2 teaspoon black pepper\n",
       " tabasco sauce, to taste\n",
       "2 tablespoons butter\n",
       "1 whole red onion, sliced\n",
       "2 tablespoons brown sugar\n",
       "1/4 cup real mayonnaise\n",
       " kaiser rolls\n",
       "1 cup crumbled blue cheese\n",
       " your favorite lettuce</td><td>6</td><td>20</td><td>4</td><td>26</td><td>Easy</td></tr><tr><td>2009-02-12</td><td>french onion soup</td><td>1 stick butter\n",
       "4 whole large (or 6 medium) yellow onions, halved root to tip, and sliced thin\n",
       "1 cup (generous) dry white wine\n",
       "4 cups low sodium chicken broth\n",
       "4 cups beef broth\n",
       "2 cloves minced garlic\n",
       " worcestershire sauce\n",
       " several thick slices of french bread or baguette\n",
       "5 ounces, weight (to 7 ounces) gruyere cheese, grated</td><td>120</td><td>20</td><td>6</td><td>140</td><td>Hard</td></tr><tr><td>2009-03-02</td><td>pasta alla marlboro man</td><td>2 tablespoons olive oil\n",
       "1/2 whole large onion, diced\n",
       "2 cloves garlic, minced\n",
       "2 pounds ground beef\n",
       " salt to taste\n",
       " freshly ground black pepper, to taste\n",
       "1 teaspoon (generous) ground thyme\n",
       "2 cans (14 ounce) whole tomatoes\n",
       "1/4 cup freshly grated parmesan cheese\n",
       "1-1/2 pound (to 2 pounds) rigatoni</td><td>60</td><td>10</td><td>6</td><td>70</td><td>Hard</td></tr><tr><td>2009-05-20</td><td>ryan’s bolognese sauce</td><td>1/2 cup olive oil\n",
       "1-1/2 cup grated carrots\n",
       "1 whole large red onion, diced\n",
       "2 pounds ground beef\n",
       "2 tablespoons dried oregano\n",
       "2 tablespoons dried basil flakes\n",
       "1 can (6 ounce) tomato paste\n",
       "5 cloves garlic, minced\n",
       "1 cup (to 2 cups) red wine\n",
       "2 tablespoons worcestershire\n",
       "2 cans (28 ounce) whole tomatoes\n",
       "1 cup milk\n",
       " salt and pepper, to taste\n",
       " fresh parmesan cheese</td><td>120</td><td>30</td><td>8</td><td>150</td><td>Hard</td></tr><tr><td>2008-01-15</td><td>leftover brisket tostadas</td><td> beef brisket leftovers\n",
       "1 package small corn tortillas\n",
       "1 can (about 16 oz.) refried beans\n",
       "1 can (about 8 oz.) hot tomato sauce or chili sauce (optional)\n",
       " pico de gallo\n",
       " shredded cheese\n",
       " lettuce\n",
       " sour cream\n",
       "1 whole avocado\n",
       " vegetable oil</td><td>5</td><td>15</td><td>6</td><td>20</td><td>Easy</td></tr><tr><td>2008-08-14</td><td>cooking with pastor ryan: delicious mexican lasagna</td><td>4 cups unprepared rice\n",
       "6 cups (to 8 cups) low sodium chicken broth/stock\n",
       "4 whole (to 8) tomatoes (up to you)\n",
       "2 whole (to 3) onions (up to you)\n",
       "8 cloves (to 14 cloves) of garlic (up to you)\n",
       " butter\n",
       " taco seasoning (or chili powder, paprika, and cumin) to taste\n",
       "1 can (to 2 cans) black or pinto beans (up to you)\n",
       "3 pounds lean ground beef\n",
       "2 jars (16 ounce) salsa verde\n",
       " flour tortillas\n",
       "3 packages (16 ounces) mexican cheese blend\n",
       "1 jar (16 ounce) enchilada sauce\n",
       "3 cans corn, drained\n",
       " sour cream, to taste\n",
       " cilantro, to taste</td><td>35</td><td>45</td><td>8</td><td>80</td><td>Hard</td></tr><tr><td>2013-01-31</td><td>salad tacos</td><td>16 whole taco shells\n",
       "2 pounds ground beef\n",
       "3 tablespoons taco seasoning\n",
       "1 can (4 ounce) tomato paste\n",
       " salt to taste\n",
       "1 can (14.5 ounce) beans (kidney, pinto, chili), undrained\n",
       "1/2 cup hot water\n",
       "1 head green leaf lettuce, sliced very thin\n",
       "1 cup grape tomatoes, halved (or diced regular tomatoes)\n",
       "1 cup grated cheese (cheddar, jack, or cheddar/jack)\n",
       " for the dressing:\n",
       "1/4 cup mayonnaise\n",
       "1/4 cup sour cream\n",
       "1/4 cup salsa\n",
       "1 tablespoon ranch dressing mix (optional)\n",
       " extra hot sauce (optional)\n",
       " crushed tortilla chips (optional)</td><td>15</td><td>10</td><td>8</td><td>25</td><td>Easy</td></tr><tr><td>2013-03-04</td><td>beef fajitas</td><td>1 whole beef flank steak\n",
       "1/2 cup olive oil\n",
       "3 tablespoons worcestershire sauce\n",
       "1/3 cup lime juice, fresh squeezed\n",
       "3 cloves garlic, minced\n",
       "1 tablespoon cumin\n",
       "1 tablespoon chili powder\n",
       "1/2 teaspoon red pepper flakes\n",
       "1 teaspoon salt\n",
       "1/2 teaspoon black pepper\n",
       "1 tablespoon sugar\n",
       "2 whole medium onions, halved and sliced\n",
       "1 whole red bell pepper, sliced\n",
       "1 whole orange bell pepper, sliced\n",
       "1 whole green bell pepper, sliced\n",
       "1 whole yellow bell pepper, sliced\n",
       " oil, for frying\n",
       " flour tortillas, warmed\n",
       " cheese (grated cheddar/jack or crumbled queso fresco)\n",
       " salsa\n",
       " sour cream\n",
       " cilantro leaves</td><td>15</td><td>120</td><td>8</td><td>135</td><td>Hard</td></tr><tr><td>2007-06-01</td><td>the best lasagna. ever.</td><td>1-1/2 pound ground beef\n",
       "1 pound hot breakfast sausage\n",
       "2 cloves garlic, minced\n",
       "2 cans (14.5 ounce) whole tomatoes\n",
       "2 cans (6 ounce) tomato paste\n",
       "2 tablespoons dried parsley\n",
       "2 tablespoons dried basil\n",
       "1 teaspoon salt\n",
       "3 cups lowfat cottage cheese\n",
       "2 whole beaten eggs\n",
       "1/2 cup grated (not shredded) parmesan cheese\n",
       "2 tablespoons dried parsley\n",
       "1 teaspoon salt\n",
       "1 pound sliced mozzarella cheese\n",
       "1 package (10 ounce) lasagna noodles\n",
       " (add 1/2 teaspoon salt and 1 tablespoon olive oil to pasta water)</td><td>30</td><td>30</td><td>12</td><td>60</td><td>Medium</td></tr><tr><td>2007-07-12</td><td>roasted beef tenderloin</td><td>1 whole (4 to 5 lbs.) beef tenderloin (butt)\n",
       "4 tablespoons salted butter, or more to taste\n",
       "1/3 cup whole peppercorns, more or less to taste\n",
       " lawry's seasoned salt (or your favorite salt blend)\n",
       " lemon pepper seasoning\n",
       " olive oil</td><td>25</td><td>25</td><td>8</td><td>50</td><td>Medium</td></tr><tr><td>2013-03-13</td><td>hot roast beef sandwiches</td><td>12 whole dinner rolls or small sandwich buns (i used whole wheat)\n",
       "1 pound thinly shaved roast beef or ham (or both!)\n",
       "1 pound cheese (provolone, swiss, mozzarella, even cheez whiz!)\n",
       "1/4 cup mayonnaise\n",
       "3 tablespoons grated onion (or 1 tbsp dried onion flakes))\n",
       "1 tablespoon poppy seeds\n",
       "1 tablespoon spicy mustard\n",
       "1 tablespoon horseradish mayo or straight prepared horseradish\n",
       " dash of worcestershire\n",
       " optional dressing ingredients: sriracha, hot sauce, dried onion flakes instead of fresh, garlic powder, pepper, etc.)</td><td>20</td><td>20</td><td>12</td><td>40</td><td>Medium</td></tr><tr><td>2012-08-06</td><td>patty melts</td><td>1 stick butter\n",
       "1 whole large onion, halved and sliced\n",
       "1-1/2 pound ground beef\n",
       " salt and pepper, to taste\n",
       "5 dashes worcestershire sauce\n",
       "8 slices swiss cheese\n",
       "8 slices rye bread</td><td>25</td><td>10</td><td>4</td><td>35</td><td>Medium</td></tr><tr><td>2012-01-30</td><td>spicy stewed beef with creamy cheddar grits</td><td>2 tablespoons canola oil\n",
       "2 tablespoons butter\n",
       "3 pounds stew meat or diced chuck roast\n",
       "1 can (11 ounces) chipotle peppers in adobo sauce\n",
       "4 cups low-sodium beef broth, more if needed\n",
       "5 cloves minced garlic\n",
       "1 tablespoon cumin\n",
       "2 teaspoons chili powder\n",
       "1 whole onion, diced\n",
       "1 whole red bell pepper\n",
       "3 whole chilies (any variety, hot or mild)\n",
       "4 cups stone ground grits\n",
       "6 cups low sodium chicken (or beef) broth\n",
       "3 cups water\n",
       "2 cups half-and-half\n",
       "2 cups grated cheddar cheese</td><td>180</td><td>20</td><td>12</td><td>200</td><td>Hard</td></tr><tr><td>2012-02-08</td><td>pork chops with garlic and wine</td><td>6 whole pork chops (medium-to-thin)\n",
       "2 tablespoons olive oil\n",
       "2 tablespoons butter\n",
       " salt and pepper\n",
       "1-1/2 cup red wine\n",
       "1/2 cup beef broth (more if needed)\n",
       "1 whole bay leaf\n",
       "1 tablespoon balsamic vinegar\n",
       "18 whole peeled garlic cloves\n",
       "1 tablespoon butter (additional)</td><td>25</td><td>5</td><td>6</td><td>30</td><td>Medium</td></tr><tr><td>2012-10-26</td><td>salisbury steak, mashed potatoes, and peas</td><td> meat mixture\n",
       "1-1/2 pound lean ground beef\n",
       "1/2 cup seasoned breadcrumbs\n",
       "2 teaspoons dry mustard\n",
       "1 cube beef bouillon, crumbed (or powdered beef base)\n",
       "4 dashes worcestershire sauce\n",
       "1 tablespoon ketchup\n",
       " salt and pepper\n",
       " gravy\n",
       "1 whole onion, halved and thinly sliced (or diced if you prefer)\n",
       "2 cups beef broth\n",
       "4 dashes worcestershire (additional)\n",
       "1 tablespoon ketchup (additional)\n",
       "1 teaspoon kitchen bouquet (optional)\n",
       "1 teaspoon corn starch mixed with a little beef broth to make a thin paste\n",
       " salt and pepper, to taste\n",
       " more broth if needed for thinning\n",
       " mashed potatoes, for serving\n",
       " buttered peas, for serving\n",
       "1 tablespoon olive oil, for frying\n",
       "1 tablespoon butter, for frying</td><td>20</td><td>10</td><td>6</td><td>30</td><td>Medium</td></tr><tr><td>2012-09-04</td><td>hot &amp; spicy italian drip beef</td><td>2 tablespoons olive oil\n",
       "2 whole chuck roasts (2 1/2 to 3 pounds each)\n",
       " salt and pepper\n",
       "32 ounces, fluid beef stock\n",
       "1 can 28 ounce crushed tomatoes\n",
       "1 jar (16 ounce) pepperoncinis, with juice\n",
       "1 jar (16 ounce) hot cherry peppers, drained\n",
       "2 jars (4 ounces each) pimentos\n",
       "1 buttered, toasted rolls (optional)\n",
       "1 provolone or mozzarella cheese</td><td>240</td><td>5</td><td>16</td><td>245</td><td>Hard</td></tr><tr><td>2012-09-10</td><td>surf &amp; turf cajun pasta</td><td>4 whole 6-ounce beef filet steaks 1 1/2 inches thick  (or any small/petite steak)\n",
       " cajun seasoning\n",
       "2 tablespoons butter\n",
       "3 tablespoons olive oil\n",
       "1 pound jumbo shrimp, deveined &amp; shells removed\n",
       "1 whole small red onion, halved and sliced\n",
       "1 whole green bell pepper, seeded, halved, and sliced\n",
       "1 whole red bell pepper, seeded, halved, and sliced\n",
       "3 cloves garlic, minced\n",
       "1/2 cup white wine\n",
       "1-1/2 cup low-sodium chicken broth (more to taste)\n",
       "3/4 cups heavy cream\n",
       "1/2 cup parmesan cheese, grated\n",
       "2 whole tomatoes, diced\n",
       " minced parsley, to taste\n",
       "1 pound fettuccine, rigatoni, or other noodle</td><td>25</td><td>20</td><td>4</td><td>45</td><td>Medium</td></tr><tr><td>2012-09-19</td><td>spaghetti sauce</td><td>5 pounds ground beef (i used ground round)\n",
       "3 tablespoons olive oil\n",
       "2 whole large yellow onions, diced\n",
       "2 whole green bell pepper, seeded and diced\n",
       "6 cloves garlic, minced\n",
       "1 cup white wine (or low sodium beef broth if you prefer)\n",
       "2 cans 28 ounce crushed tomatoes\n",
       "1 can (14 ounce) crushed tomatoes\n",
       "1 can (small, 4-ounce) tomato paste\n",
       "1 jar good storebought marinara sauce (can use another jar if you like the sauce to be more saucy than meaty)\n",
       "1 teaspoon ground oregano\n",
       "1 teaspoon ground thyme\n",
       "4 whole bay leaves\n",
       "2 tablespoons sugar\n",
       "2 teaspoons kosher salt\n",
       "1/2 teaspoon crushed red pepper (optional)\n",
       "1/4 cup finely minced fresh parsley (or 3 tablespoons parsley flakes), more to taste\n",
       "1 whole rind from one wedge parmesan (optional)\n",
       "1/2 cup grated parmesan cheese (optional)\n",
       "2 pounds spaghetti, cooked al dente and tossed with olive oil\n",
       " extra minced parsley, for serving\n",
       " extra parmesan cheese, for serving</td><td>60</td><td>20</td><td>18</td><td>80</td><td>Hard</td></tr><tr><td>2012-10-01</td><td>pepperoni pizza burgers</td><td>1-1/2 pound ground beef\n",
       "1/2 pound italian sausage ( a little more is fine!)\n",
       "1/2 teaspoon italian seasoning\n",
       "8 slices mozzarella or provolone cheese\n",
       " pepperoni slices\n",
       "8 tablespoons jarred marinara sauce\n",
       " grated parmesan cheese\n",
       "4 whole kaiser rolls or good hamburger buns</td><td>10</td><td>5</td><td>4</td><td>15</td><td>Easy</td></tr><tr><td>2012-10-11</td><td>supreme pizza burgers</td><td>1-1/2 pound ground beef\n",
       "1/2 pound italian sausage ( a little more is fine!)\n",
       "1/2 teaspoon italian seasoning\n",
       "8 slices mozzarella or provolone cheese\n",
       " pepperoni slices\n",
       "8 tablespoons jarred marinara sauce, plus a little more\n",
       " grated parmesan cheese\n",
       "4 whole kaiser rolls or good hamburger buns\n",
       " thinly sliced red onion\n",
       "1 whole green bell pepper, sliced thick\n",
       " sliced black olives\n",
       " sliced mushrooms</td><td>15</td><td>5</td><td>4</td><td>20</td><td>Easy</td></tr><tr><td>2011-09-22</td><td>short ribs with wine and cream</td><td>12 whole shortribs\n",
       " salt and pepper, to taste\n",
       "3 tablespoons olive oil\n",
       "1 cup red wine\n",
       "32 ounces, fluid beef broth or beef stock\n",
       "2 tablespoons minced fresh rosemary\n",
       "2 tablespoons grainy mustard\n",
       "1 cup heavy cream\n",
       "2 tablespoons capers (more if you want!)\n",
       "16 ounces, weight assorted mushrooms: cremini, oyster, baby bellas, etc.\n",
       " olive oil, for drizzling\n",
       " rosemary sprig, to be fancy</td><td>180</td><td>10</td><td>6</td><td>190</td><td>Hard</td></tr><tr><td>2011-11-07</td><td>pork roast with apples and onions</td><td> pork\n",
       "3 tablespoons olive oil\n",
       "1 whole pork shoulder roast (also called pork butt)\n",
       " salt and pepper, to taste\n",
       "4 cups apple juice\n",
       "1 cup beef stock\n",
       "3 whole apples, cored and cut into wedges\n",
       "3 whole medium onions, sliced\n",
       "1 whole bay leaf\n",
       " wild rice\n",
       "2-1/2 cups wild rice\n",
       "4 cups water\n",
       "3 cups chicken stock\n",
       "1/2 stick 4 tablespoons butter\n",
       "1/2 cup chopped pecans</td><td>120</td><td>15</td><td>8</td><td>135</td><td>Hard</td></tr><tr><td>2011-12-28</td><td>spicy whiskey bbq sliders</td><td>2 pounds ground meat (beef, bison, turkey)\n",
       " salt and pepper\n",
       "4 tablespoons butter\n",
       "1 whole large onion, diced\n",
       "1/2 cup whiskey\n",
       "1 cup barbecue sauce\n",
       "1/4 cup jarred jalapeno slices (more to taste)\n",
       "12 whole slider buns or dinner rolls, split</td><td>15</td><td>15</td><td>6</td><td>30</td><td>Medium</td></tr><tr><td>2010-10-25</td><td>beef with snow peas</td><td>1-1/2 pound flank steak, trimmed of fat and sliced very thin against the grain\n",
       "1/2 cup low sodium soy sauce\n",
       "3 tablespoons sherry or cooking sherry\n",
       "2 tablespoons brown sugar\n",
       "2 tablespoons cornstarch\n",
       "1 tablespoon minced fresh ginger\n",
       "8 ounces, weight fresh snow peas, ends trimmed\n",
       "5 whole scallions, cut into haf-inch pieces on the diagonal\n",
       " salt as needed (use sparingly)\n",
       "3 tablespoons peanut or olive oil\n",
       " crushed red pepper, for sprinkling\n",
       " jasmine or long grain rice, cooked according to package</td><td>15</td><td>5</td><td>8</td><td>20</td><td>Easy</td></tr><tr><td>2010-08-31</td><td>beer-braised beef with onions</td><td>1 whole chuck roast, 2 1/2 to 5 pounds\n",
       " salt and pepper to taste (be generous!)\n",
       "3 tablespoons olive oil\n",
       "4 whole onions, peeled and sliced thick\n",
       "5 cloves garlic, chopped\n",
       "2 cans beer\n",
       "1 teaspoon ground thyme\n",
       "1/2 teaspoon rosemary leaves</td><td>180</td><td>5</td><td>6</td><td>185</td><td>Hard</td></tr><tr><td>2011-03-30</td><td>beef with peppers</td><td>1-1/2 pound flank steak, sliced very thin against the grain\n",
       "1/2 cup low sodium soy sauce\n",
       "3 tablespoons sherry\n",
       "2 tablespoons packed brown sugar\n",
       "2 tablespoons cornstarch\n",
       "1 tablespoon minced fresh ginger\n",
       "2 cloves garlic, minced\n",
       "1 teaspoon red chile paste (or a few dashes red chile oil)\n",
       "2 tablespoons canola oil\n",
       "1 whole medium yellow onion, sliced\n",
       "2 whole red bell peppers, cored and sliced into rings\n",
       "1 tablespoon diced fresh jalapeno (or 1 teaspoon dice hot pepper)\n",
       " red pepper flakes, for sprinkling\n",
       " cilantro leaves</td><td>15</td><td>15</td><td>8</td><td>30</td><td>Medium</td></tr><tr><td>2009-11-30</td><td>beef stew with mushrooms</td><td>2 pounds beef stew meat (sirloin cut into cubes)\n",
       "2 tablespoons flour\n",
       "4 tablespoons butter\n",
       "2 tablespoons olive oil\n",
       "2 whole shallots, minced\n",
       "3 cloves garlic, minced\n",
       "8 ounces, weight cremini or white button mushrooms\n",
       "1/2 cup red wine\n",
       "1/2 can beef consomme\n",
       " salt and pepper, to taste\n",
       " pasta - cooked and drained\n",
       "2 sprigs fresh thyme\n",
       "2 tablespoons flour</td><td>30</td><td>25</td><td>8</td><td>55</td><td>Medium</td></tr><tr><td>2011-01-14</td><td>beef stew with beer and paprika</td><td>3 tablespoons olive oil\n",
       "1 tablespoon butter\n",
       "2 pounds stew meat\n",
       "1 whole medium onion, diced\n",
       "3 cloves garlic, minced\n",
       "1 can beer, 12 ounce can\n",
       "4 cups beef stock (or 4 cups water + 4 beef bouillon cubes)\n",
       "2 cups water (additional, if needed)\n",
       "1 tablespoon worcestershire sauce\n",
       "2 tablespoons tomato paste\n",
       "1/2 teaspoon paprika\n",
       "1/2 teaspoon kosher salt\n",
       " freshly ground black pepper\n",
       "1-1/2 teaspoon sugar\n",
       "4 whole carrots, washed, unpeeled, and roughly sliced\n",
       "4 whole new potatoes, quartered\n",
       " minced parsley (optional)</td><td>150</td><td>10</td><td>6</td><td>160</td><td>Hard</td></tr><tr><td>2011-05-12</td><td>beef noodle salad bowls</td><td>1 whole sirloin steak, 3/4 to 1 pound\n",
       " kosher salt to taste\n",
       "3/4 cups ponzo or regular soy sauce\n",
       "3 tablespoons pure sesame oil\n",
       "2 tablespoons olive oil\n",
       "2 tablespoons rice wine vinegar\n",
       "1 teaspoon hot chili oil (less if you can't handle heat!)\n",
       "2 cloves garlic, peeled and minced finely\n",
       "2 teaspoons minced fresh ginger\n",
       "2 tablespoons packed brown sugar\n",
       "1/2 cup sliced green onion\n",
       "8 ounces, weight thin noodles (i used thin spaghetti)\n",
       " cilantro leaves</td><td>10</td><td>10</td><td>4</td><td>20</td><td>Easy</td></tr><tr><td>2010-07-12</td><td>beef and bean burritos</td><td>2 pounds ground beef\n",
       "1/2 whole medium onion\n",
       "1 can (7 ounce) mexican tomato sauce or enchilada sauce\n",
       " salt and pepper, to taste\n",
       " cumin, oregano, chili powder, garlic to taste\n",
       "1 can (28 ounce) refried beans\n",
       "3/4 cups grated cheddar cheese\n",
       "12 whole burrito-sized flour tortillas\n",
       " extra grated cheese, for sprinkling\n",
       " extra sauce, for drizzling\n",
       " cilantro leaves, optional\n",
       " optional filling ingredients: mexican rice, sour cream, guacamole, green chilies, pico de gallo</td><td>11</td><td>5</td><td>6</td><td>16</td><td>Easy</td></tr><tr><td>2011-02-01</td><td>beef fajita nachos</td><td> flank steak\n",
       "1 whole flank steak\n",
       "1/3 cup olive oil\n",
       "2 whole limes, juiced\n",
       "4 whole canned chipotle peppers, with a little sauce\n",
       "4 cloves garlic, peeled\n",
       "1 whole handful of cilantro\n",
       " nachos\n",
       "2 whole yellow onion\n",
       "2 whole bell peppers, cored and sliced (can use different colors)\n",
       " olive oil, for frying\n",
       " sturdy tortilla chips\n",
       "8 ounces, weight cheese, grated (cheddar, jack, pepper jack, etc)\n",
       " guacamole\n",
       " salsa\n",
       " sour cream</td><td>12</td><td>1440</td><td>12</td><td>1452</td><td>Hard</td></tr><tr><td>2009-03-26</td><td>bbq comfort meatballs</td><td> for meatballs\n",
       "1-1/2 pound ground beef\n",
       "3/4 cups oats\n",
       "1 cup milk\n",
       "3 tablespoons very finely minced onion\n",
       "1-1/2 teaspoon salt\n",
       " plenty of ground black pepper, to taste\n",
       " _____\n",
       " for cooking meatballs\n",
       "1 cup all-purpose flour (coating for frozen meatballs)\n",
       " canola oil\n",
       " _____\n",
       " for sauce\n",
       "1 cup ketchup\n",
       "2 tablespoons sugar\n",
       "3 tablespoons vinegar\n",
       "2 tablespoons worcestershire\n",
       "4 tablespoons (to 6 tablespoons) onion\n",
       "1 dash tabasco</td><td>45</td><td>15</td><td>6</td><td>60</td><td>Medium</td></tr><tr><td>2010-12-29</td><td>meatballs with peppers and pineapple</td><td>1-1/4 pound ground beef\n",
       "1/2 whole onion, diced very finely\n",
       "1 whole egg\n",
       "1/2 cup panko bread crumbs (or regular breadcrumbs)\n",
       "1 teaspoon kosher salt\n",
       " freshly ground black pepper, to taste\n",
       "1/2 teaspoon crushed red pepper, more to taste\n",
       "1/4 cup all-purpose flour\n",
       " canola oil, for frying\n",
       "2 whole green bell peppers, seeded and diced roughly\n",
       "1-1/2 cup fresh pineapple chunks\n",
       "2 cups beef stock or broth\n",
       "2 tablespoons soy sauce\n",
       "1/2 cup sherry or white wine vinegar\n",
       "1/3 cup sugar\n",
       "1 tablespoon cornstarch\n",
       " salt to taste\n",
       " crushed red pepper, to taste\n",
       " extra beef stock if needed</td><td>20</td><td>20</td><td>8</td><td>40</td><td>Medium</td></tr><tr><td>2011-03-07</td><td>short ribs in tomato sauce</td><td>8 whole beef short ribs\n",
       "2 tablespoons olive oil\n",
       " salt and pepper, to taste\n",
       "1 tablespoon sugar\n",
       "4 cloves garlic, crushed\n",
       "1 whole medium onion, diced\n",
       "1 cup red or white wine\n",
       "1 can (28 ounce) whole tomatoes\n",
       "1 can (14 ounce) tomato sauce\n",
       "1 teaspoon salt\n",
       "1/4 teaspoon red pepper flakes\n",
       "1/4 teaspoon ground thyme\n",
       "1 pound fettuccine\n",
       " grated parmesan cheese\n",
       " minced fresh parsley</td><td>240</td><td>10</td><td>6</td><td>250</td><td>Hard</td></tr><tr><td>2012-10-22</td><td>italian pot roast</td><td>2 whole beef chuck roasts\n",
       "2 jars roasted red peppers\n",
       "2 jars artichoke hearts, drained\n",
       "6 whole sundried tomatoes (jarred)\n",
       "2 whole yellow onions, peeled and quartered\n",
       "28 ounces, fluid beef stock or beef broth\n",
       "2 tablespoons parsley flakes\n",
       "6 cloves garlic, peeled\n",
       "1 cup wine (red or white)\n",
       "2 tablespoons flour\n",
       " salt and pepper, to taste\n",
       "12 ounces, weight egg noodles\n",
       " fresh parsley, minced</td><td>240</td><td>1</td><td>12</td><td>241</td><td>Hard</td></tr><tr><td>2009-01-18</td><td>cajun meatloaf</td><td>3 whole bell peppers (2 if they're large)\n",
       "2 whole medium onions\n",
       "1 bunch celery (5-6 ribs)\n",
       "8 cloves (to 10 cloves) of garlic\n",
       "6 tablespoons butter\n",
       "1 teaspoon salt\n",
       "1 tablespoon worcestershire\n",
       "1 teaspoon black pepper\n",
       "1 teaspoon ground nutmeg\n",
       "1 teaspoon cayenne pepper\n",
       " optional:  a few shakes of hot sauce\n",
       "2 cups ketchup, divided\n",
       "1/2 cup whole milk\n",
       "1 cup (to 2 cups) breadcrumbs\n",
       "2 pounds of lean ground beef (92% lean)\n",
       "1 pound ground pork\n",
       "3 whole eggs\n",
       "2 tablespoons honey</td><td>40</td><td>40</td><td>8</td><td>80</td><td>Hard</td></tr><tr><td>2009-11-16</td><td>braised short ribs</td><td>8 whole beef short ribs\n",
       " kosher salt and pepper to taste\n",
       "1/4 cup all-purpose flour\n",
       "6 pieces pancetta, diced\n",
       "2 tablespoons olive oil\n",
       "1 whole medium onion, diced\n",
       "3 whole carrots, diced\n",
       "2 whole shallots, peeled and finely minced\n",
       "2 cups red or white wine\n",
       "2 cups beef or chicken broth (enough to almost cover ribs)\n",
       "2 sprigs thyme\n",
       "2 sprigs rosemary</td><td>120</td><td>20</td><td>4</td><td>140</td><td>Hard</td></tr><tr><td>2007-06-27</td><td>braised beef brisket</td><td>2 cans beef consomme\n",
       "1/2 cup lemon juice\n",
       "1-1/2 cup soy sauce\n",
       "5 cloves chopped garlic\n",
       "2 tablespoons liquid smoke\n",
       "10 pounds beef brisket</td><td>360</td><td>10</td><td>12</td><td>370</td><td>Hard</td></tr><tr><td>2010-08-04</td><td>mushroom-and-swiss sliders with spicy fry sauce</td><td>1/3 cup mayonnaise\n",
       "2 tablespoons ketchup\n",
       "1 teaspoon cayenne pepper (less if you're sensitive to spice!)\n",
       "4 tablespoons butter\n",
       "1/2 whole medium onion, finely diced\n",
       "8 ounces, weight white mushrooms, chopped finely\n",
       "1/2 cup white or red wine (optional)\n",
       "4 dashes worcestershire sauce\n",
       " kosher salt and freshly ground black pepper\n",
       "2 pounds ground beef\n",
       "4 tablespoons heavy whipping cream\n",
       "4 dashes worcestershire sauce\n",
       "1 teaspoon kosher salt\n",
       " freshly ground black pepper\n",
       "4 slices swiss cheese, cut into four squares\n",
       "8 whole dinner (or slider) rolls, split</td><td>30</td><td>15</td><td>4</td><td>45</td><td>Medium</td></tr><tr><td>2010-09-20</td><td>my favorite meatloaf</td><td> meatloaf:\n",
       "1 cup whole milk\n",
       "6 slices white bread\n",
       "2 pounds ground beef\n",
       "1 cup (heaping) freshly grated parmesan cheese\n",
       "1/4 teaspoon seasoned salt\n",
       "3/4 teaspoons salt\n",
       " freshly ground black pepper\n",
       "1/3 cup minced flat-leaf parsley\n",
       "4 whole eggs, beaten\n",
       "10 slices thin/regular bacon\n",
       " sauce:\n",
       "1-1/2 cup ketchup\n",
       "1/3 cup brown sugar\n",
       "1 teaspoon dry mustard\n",
       " tabasco to taste</td><td>45</td><td>15</td><td>8</td><td>60</td><td>Medium</td></tr><tr><td>2010-09-27</td><td>burgundy mushrooms</td><td>4 pounds white button mushrooms\n",
       "2 sticks butter\n",
       "1-1/2 teaspoon worcestershire sauce\n",
       "1 quarts burgundy wine (other reds will work)\n",
       "1 teaspoon freshly ground black pepper\n",
       "2 cups boiling water\n",
       "4 whole chicken bouillon cubes\n",
       "4 whole beef bouillon cubes\n",
       "1 teaspoon dill seed\n",
       "5 cloves garlic, peeled\n",
       "2 teaspoons salt</td><td>540</td><td>5</td><td>8</td><td>545</td><td>Hard</td></tr></tbody></table></div>"
      ]
     },
     "metadata": {
      "application/vnd.databricks.v1+output": {
       "addedWidgets": {},
       "aggData": [],
       "aggError": "",
       "aggOverflow": false,
       "aggSchema": [],
       "aggSeriesLimitReached": false,
       "aggType": "",
       "arguments": {},
       "columnCustomDisplayInfos": {},
       "data": [
        [
         "2010-11-23",
         "french onion soup stuffed mushrooms",
         "2 tablespoons butter\n2 whole large onions, halved and sliced thin\n1/4 cup beef broth\n7 dashes worcestershire sauce\n splash of red or white wine\n1/2 cup grated gruyere cheese (can use swiss)\n kosher salt\n24 whole white or crimini mushrooms, washed and stems removed\n minced parsley",
         30,
         20,
         8,
         50,
         "Medium"
        ],
        [
         "2012-11-26",
         "baked ziti",
         "2 tablespoons olive oil\n3 cloves garlic, minced\n1 whole large onion, diced\n1 pound italian sausage\n1 pound ground beef\n1 can (28 ounce can) whole tomatoes, with juice\n2 cans (14.5 ounce) tomato sauce or marinara sauce\n2 teaspoons italian seasoning\n1/2 teaspoon red pepper flakes\n salt and pepper, to taste\n16 ounces, weight ziti or mostaciolli, cooked until not quite al dente\n1 tub (15 ounce) whole milk ricotta cheese\n1-1/2 pound mozzarella cheese, grated\n1/2 cup grated parmesan cheese\n1 whole egg\n fresh minced parsley",
         45,
         15,
         12,
         60,
         "Medium"
        ],
        [
         "2013-01-14",
         "sunday night stew",
         " stew\n3 tablespoons olive oil\n1 tablespoon butter\n2 pounds beef stew meat (chuck roast cut into chunks)\n salt and pepper\n1 whole medium onion, diced\n3 cloves garlic, minced\n4 ounces, weight tomato paste\n4 cups low sodium beef stock or broth, more if needed for thinning\n several dashes worcestershire\n1/2 teaspoon sugar\n4 whole carrots, peeled and diced\n2 whole turnips, peeled and diced\n2 tablespoons minced fresh parsley\n mashed potatoes\n5 pounds russet potatoes (peeled)\n1 package (8 ounce) cream cheese, softened\n1 stick butter, softened\n1/2 cup heavy cream\n1 teaspoon seasoned salt\n salt and pepper, to taste",
         180,
         15,
         8,
         195,
         "Hard"
        ],
        [
         "2010-01-18",
         "italian meatball soup",
         " meatballs:\n3/4 pounds ground beef\n1/2 cup freshly grated parmesan cheese\n3 tablespoons fresh parsley, minced\n1 whole egg\n2 cloves garlic\n1/2 teaspoon salt\n1/2 teaspoon black pepper\n1/4 teaspoon ground oregano\n2 teaspoons lemon juice\n soup\n3 tablespoons olive oil\n7 cups low sodium beef stock\n2 cups water\n1/2 teaspoon salt\n2 tablespoons tomato paste\n3/4 cups onion, chopped\n3/4 cups carrots, chopped\n3/4 cups celery, chopped\n1 cup russet potato, chopped (do not peel)\n1/2 pound cabbage chopped\n grated parmesan cheese to serve\n tied in a cheesecloth bundle\n4 tablespoons fresh parsley, minced\n2 whole bay leaves\n1 teaspoon peppercorns",
         45,
         30,
         8,
         75,
         "Hard"
        ],
        [
         "2010-02-03",
         "drip beef, two ways",
         "1 whole beef chuck roast, 2.5 to 4 pounds\n1 can beef consomme or beef broth\n3 tablespoons (heaping) italian seasoning\n1 teaspoon salt\n1/4 cup water\n1/2 jar (16 oz) pepperoncini peppers, with juice\n buttered, toasted deli rolls",
         360,
         5,
         10,
         365,
         "Hard"
        ],
        [
         "2010-02-15",
         "spaghetti &amp; meatballs",
         " meatballs:\n3/4 pounds ground beef\n3/4 pounds ground pork\n3 cloves garlic, minced\n3/4 cups fine bread crumbs\n2 whole eggs\n3/4 cups freshly grated parmesan\n1/4 cup flat-leaf parsley, minced\n1/4 teaspoon salt\n freshly ground black pepper\n splash of milk\n1/2 cup olive oil\n sauce:\n1 whole yellow onion, diced\n3 cloves garlic, minced\n1 whole (28-ounce) can whole tomatoes\n1 whole 28 ounce can crushed tomatoes\n1/2 cup white or red wine (optional)\n1/4 teaspoon salt\n1 teaspoon sugar\n freshly ground black pepper\n1/4 cup flat-leaf parsley, minced\n8 whole fresh basil leaves, chiffonade (optional)\n2 pounds spaghetti, cooked to al dente",
         60,
         25,
         8,
         85,
         "Hard"
        ],
        [
         "2010-03-30",
         "passover brisket",
         "1 whole beef brisket, trimmed of all fat (5 to 8 pounds)\n1 bottle (24 ounce) ketchup or chili sauce (make sure it's kosher)\n1 package onion soup mix (make sure it's kosher)",
         420,
         10,
         8,
         430,
         "Hard"
        ],
        [
         "2010-04-12",
         "sloppy joes",
         "2 tablespoons butter\n2-1/2 pounds ground beef\n1/2 whole large onion, diced\n1 whole large green bell pepper, diced\n5 cloves garlic, minced\n1-1/2 cup ketchup\n1 cup water\n2 tablespoons brown sugar\n2 teaspoons chili powder (more to taste)\n1 teaspoon dry mustard\n1/2 teaspoon red pepper flakes (more to taste)\n worcestershire sauce, to taste\n2 tablespoons tomato paste (optional)\n tabasco sauce (optional; to taste)\n salt to taste\n freshly ground black pepper, to taste\n kaiser rolls\n butter",
         20,
         10,
         8,
         30,
         "Medium"
        ],
        [
         "2008-06-13",
         "cowboy nachos",
         "2 cups pioneer woman's pinto beans from \"beans and cornbread\" recipe on tasty kitchen\n ground black pepper to taste\n tabasco sauce, to taste\n minced garlic (to desired flavor)\n jarred or fresh jalapenos (optional)\n canola oil\n2 cups pioneer woman's beef brisket from \"beef brisket\" recipe\n pan drippings from brisket or beef broth (optional)\n1 can mexican red sauce or enchilada sauce (enough to moisten beef)\n2 cups pioneer woman's pico de gallo from \"pico de gallo and guacamole\" recipe\n tortilla chips\n2 cups grated monterey jack cheese (or to taste)\n guacamole and sour cream (optional)",
         5,
         15,
         4,
         20,
         "Easy"
        ],
        [
         "2008-09-15",
         "enchiladas",
         " for the sauce:\n1 tablespoon canola oil\n1 tablespoon all-purpose flour\n1 can (28 ounce) enchilada or red sauce\n2 cups chicken broth\n1/2 teaspoon salt\n1/2 teaspoon ground black pepper\n2 tablespoons chopped cilantro\n _____\n for the meat:\n1-1/2 pound ground beef\n1 whole medium onion, finely diced\n2 cans (4 ounce) diced green chilies\n1/2 teaspoon salt\n _____\n for the tortillas:\n10 whole (to 14) corn tortillas\n1/2 cup canola oil\n _____\n to assemble:\n3 cups grated sharp cheddar cheese\n1/2 cup chopped black olives\n1 cup chopped green onions\n1/2 cup chopped cilantro",
         20,
         90,
         6,
         110,
         "Hard"
        ],
        [
         "2012-03-09",
         "steak bites",
         "1 pound sirloin steak (without much gristle) or pre-cut beef tips\n kosher salt to taste\n fresh ground black pepper to taste\n2 tablespoons butter",
         10,
         5,
         2,
         15,
         "Easy"
        ],
        [
         "2009-01-25",
         "my favorite burger",
         "2 pounds 80/20 ground beef\n1 teaspoon salt\n1/2 teaspoon black pepper\n tabasco sauce, to taste\n2 tablespoons butter\n1 whole red onion, sliced\n2 tablespoons brown sugar\n1/4 cup real mayonnaise\n kaiser rolls\n1 cup crumbled blue cheese\n your favorite lettuce",
         6,
         20,
         4,
         26,
         "Easy"
        ],
        [
         "2009-02-12",
         "french onion soup",
         "1 stick butter\n4 whole large (or 6 medium) yellow onions, halved root to tip, and sliced thin\n1 cup (generous) dry white wine\n4 cups low sodium chicken broth\n4 cups beef broth\n2 cloves minced garlic\n worcestershire sauce\n several thick slices of french bread or baguette\n5 ounces, weight (to 7 ounces) gruyere cheese, grated",
         120,
         20,
         6,
         140,
         "Hard"
        ],
        [
         "2009-03-02",
         "pasta alla marlboro man",
         "2 tablespoons olive oil\n1/2 whole large onion, diced\n2 cloves garlic, minced\n2 pounds ground beef\n salt to taste\n freshly ground black pepper, to taste\n1 teaspoon (generous) ground thyme\n2 cans (14 ounce) whole tomatoes\n1/4 cup freshly grated parmesan cheese\n1-1/2 pound (to 2 pounds) rigatoni",
         60,
         10,
         6,
         70,
         "Hard"
        ],
        [
         "2009-05-20",
         "ryan’s bolognese sauce",
         "1/2 cup olive oil\n1-1/2 cup grated carrots\n1 whole large red onion, diced\n2 pounds ground beef\n2 tablespoons dried oregano\n2 tablespoons dried basil flakes\n1 can (6 ounce) tomato paste\n5 cloves garlic, minced\n1 cup (to 2 cups) red wine\n2 tablespoons worcestershire\n2 cans (28 ounce) whole tomatoes\n1 cup milk\n salt and pepper, to taste\n fresh parmesan cheese",
         120,
         30,
         8,
         150,
         "Hard"
        ],
        [
         "2008-01-15",
         "leftover brisket tostadas",
         " beef brisket leftovers\n1 package small corn tortillas\n1 can (about 16 oz.) refried beans\n1 can (about 8 oz.) hot tomato sauce or chili sauce (optional)\n pico de gallo\n shredded cheese\n lettuce\n sour cream\n1 whole avocado\n vegetable oil",
         5,
         15,
         6,
         20,
         "Easy"
        ],
        [
         "2008-08-14",
         "cooking with pastor ryan: delicious mexican lasagna",
         "4 cups unprepared rice\n6 cups (to 8 cups) low sodium chicken broth/stock\n4 whole (to 8) tomatoes (up to you)\n2 whole (to 3) onions (up to you)\n8 cloves (to 14 cloves) of garlic (up to you)\n butter\n taco seasoning (or chili powder, paprika, and cumin) to taste\n1 can (to 2 cans) black or pinto beans (up to you)\n3 pounds lean ground beef\n2 jars (16 ounce) salsa verde\n flour tortillas\n3 packages (16 ounces) mexican cheese blend\n1 jar (16 ounce) enchilada sauce\n3 cans corn, drained\n sour cream, to taste\n cilantro, to taste",
         35,
         45,
         8,
         80,
         "Hard"
        ],
        [
         "2013-01-31",
         "salad tacos",
         "16 whole taco shells\n2 pounds ground beef\n3 tablespoons taco seasoning\n1 can (4 ounce) tomato paste\n salt to taste\n1 can (14.5 ounce) beans (kidney, pinto, chili), undrained\n1/2 cup hot water\n1 head green leaf lettuce, sliced very thin\n1 cup grape tomatoes, halved (or diced regular tomatoes)\n1 cup grated cheese (cheddar, jack, or cheddar/jack)\n for the dressing:\n1/4 cup mayonnaise\n1/4 cup sour cream\n1/4 cup salsa\n1 tablespoon ranch dressing mix (optional)\n extra hot sauce (optional)\n crushed tortilla chips (optional)",
         15,
         10,
         8,
         25,
         "Easy"
        ],
        [
         "2013-03-04",
         "beef fajitas",
         "1 whole beef flank steak\n1/2 cup olive oil\n3 tablespoons worcestershire sauce\n1/3 cup lime juice, fresh squeezed\n3 cloves garlic, minced\n1 tablespoon cumin\n1 tablespoon chili powder\n1/2 teaspoon red pepper flakes\n1 teaspoon salt\n1/2 teaspoon black pepper\n1 tablespoon sugar\n2 whole medium onions, halved and sliced\n1 whole red bell pepper, sliced\n1 whole orange bell pepper, sliced\n1 whole green bell pepper, sliced\n1 whole yellow bell pepper, sliced\n oil, for frying\n flour tortillas, warmed\n cheese (grated cheddar/jack or crumbled queso fresco)\n salsa\n sour cream\n cilantro leaves",
         15,
         120,
         8,
         135,
         "Hard"
        ],
        [
         "2007-06-01",
         "the best lasagna. ever.",
         "1-1/2 pound ground beef\n1 pound hot breakfast sausage\n2 cloves garlic, minced\n2 cans (14.5 ounce) whole tomatoes\n2 cans (6 ounce) tomato paste\n2 tablespoons dried parsley\n2 tablespoons dried basil\n1 teaspoon salt\n3 cups lowfat cottage cheese\n2 whole beaten eggs\n1/2 cup grated (not shredded) parmesan cheese\n2 tablespoons dried parsley\n1 teaspoon salt\n1 pound sliced mozzarella cheese\n1 package (10 ounce) lasagna noodles\n (add 1/2 teaspoon salt and 1 tablespoon olive oil to pasta water)",
         30,
         30,
         12,
         60,
         "Medium"
        ],
        [
         "2007-07-12",
         "roasted beef tenderloin",
         "1 whole (4 to 5 lbs.) beef tenderloin (butt)\n4 tablespoons salted butter, or more to taste\n1/3 cup whole peppercorns, more or less to taste\n lawry's seasoned salt (or your favorite salt blend)\n lemon pepper seasoning\n olive oil",
         25,
         25,
         8,
         50,
         "Medium"
        ],
        [
         "2013-03-13",
         "hot roast beef sandwiches",
         "12 whole dinner rolls or small sandwich buns (i used whole wheat)\n1 pound thinly shaved roast beef or ham (or both!)\n1 pound cheese (provolone, swiss, mozzarella, even cheez whiz!)\n1/4 cup mayonnaise\n3 tablespoons grated onion (or 1 tbsp dried onion flakes))\n1 tablespoon poppy seeds\n1 tablespoon spicy mustard\n1 tablespoon horseradish mayo or straight prepared horseradish\n dash of worcestershire\n optional dressing ingredients: sriracha, hot sauce, dried onion flakes instead of fresh, garlic powder, pepper, etc.)",
         20,
         20,
         12,
         40,
         "Medium"
        ],
        [
         "2012-08-06",
         "patty melts",
         "1 stick butter\n1 whole large onion, halved and sliced\n1-1/2 pound ground beef\n salt and pepper, to taste\n5 dashes worcestershire sauce\n8 slices swiss cheese\n8 slices rye bread",
         25,
         10,
         4,
         35,
         "Medium"
        ],
        [
         "2012-01-30",
         "spicy stewed beef with creamy cheddar grits",
         "2 tablespoons canola oil\n2 tablespoons butter\n3 pounds stew meat or diced chuck roast\n1 can (11 ounces) chipotle peppers in adobo sauce\n4 cups low-sodium beef broth, more if needed\n5 cloves minced garlic\n1 tablespoon cumin\n2 teaspoons chili powder\n1 whole onion, diced\n1 whole red bell pepper\n3 whole chilies (any variety, hot or mild)\n4 cups stone ground grits\n6 cups low sodium chicken (or beef) broth\n3 cups water\n2 cups half-and-half\n2 cups grated cheddar cheese",
         180,
         20,
         12,
         200,
         "Hard"
        ],
        [
         "2012-02-08",
         "pork chops with garlic and wine",
         "6 whole pork chops (medium-to-thin)\n2 tablespoons olive oil\n2 tablespoons butter\n salt and pepper\n1-1/2 cup red wine\n1/2 cup beef broth (more if needed)\n1 whole bay leaf\n1 tablespoon balsamic vinegar\n18 whole peeled garlic cloves\n1 tablespoon butter (additional)",
         25,
         5,
         6,
         30,
         "Medium"
        ],
        [
         "2012-10-26",
         "salisbury steak, mashed potatoes, and peas",
         " meat mixture\n1-1/2 pound lean ground beef\n1/2 cup seasoned breadcrumbs\n2 teaspoons dry mustard\n1 cube beef bouillon, crumbed (or powdered beef base)\n4 dashes worcestershire sauce\n1 tablespoon ketchup\n salt and pepper\n gravy\n1 whole onion, halved and thinly sliced (or diced if you prefer)\n2 cups beef broth\n4 dashes worcestershire (additional)\n1 tablespoon ketchup (additional)\n1 teaspoon kitchen bouquet (optional)\n1 teaspoon corn starch mixed with a little beef broth to make a thin paste\n salt and pepper, to taste\n more broth if needed for thinning\n mashed potatoes, for serving\n buttered peas, for serving\n1 tablespoon olive oil, for frying\n1 tablespoon butter, for frying",
         20,
         10,
         6,
         30,
         "Medium"
        ],
        [
         "2012-09-04",
         "hot &amp; spicy italian drip beef",
         "2 tablespoons olive oil\n2 whole chuck roasts (2 1/2 to 3 pounds each)\n salt and pepper\n32 ounces, fluid beef stock\n1 can 28 ounce crushed tomatoes\n1 jar (16 ounce) pepperoncinis, with juice\n1 jar (16 ounce) hot cherry peppers, drained\n2 jars (4 ounces each) pimentos\n1 buttered, toasted rolls (optional)\n1 provolone or mozzarella cheese",
         240,
         5,
         16,
         245,
         "Hard"
        ],
        [
         "2012-09-10",
         "surf &amp; turf cajun pasta",
         "4 whole 6-ounce beef filet steaks 1 1/2 inches thick  (or any small/petite steak)\n cajun seasoning\n2 tablespoons butter\n3 tablespoons olive oil\n1 pound jumbo shrimp, deveined &amp; shells removed\n1 whole small red onion, halved and sliced\n1 whole green bell pepper, seeded, halved, and sliced\n1 whole red bell pepper, seeded, halved, and sliced\n3 cloves garlic, minced\n1/2 cup white wine\n1-1/2 cup low-sodium chicken broth (more to taste)\n3/4 cups heavy cream\n1/2 cup parmesan cheese, grated\n2 whole tomatoes, diced\n minced parsley, to taste\n1 pound fettuccine, rigatoni, or other noodle",
         25,
         20,
         4,
         45,
         "Medium"
        ],
        [
         "2012-09-19",
         "spaghetti sauce",
         "5 pounds ground beef (i used ground round)\n3 tablespoons olive oil\n2 whole large yellow onions, diced\n2 whole green bell pepper, seeded and diced\n6 cloves garlic, minced\n1 cup white wine (or low sodium beef broth if you prefer)\n2 cans 28 ounce crushed tomatoes\n1 can (14 ounce) crushed tomatoes\n1 can (small, 4-ounce) tomato paste\n1 jar good storebought marinara sauce (can use another jar if you like the sauce to be more saucy than meaty)\n1 teaspoon ground oregano\n1 teaspoon ground thyme\n4 whole bay leaves\n2 tablespoons sugar\n2 teaspoons kosher salt\n1/2 teaspoon crushed red pepper (optional)\n1/4 cup finely minced fresh parsley (or 3 tablespoons parsley flakes), more to taste\n1 whole rind from one wedge parmesan (optional)\n1/2 cup grated parmesan cheese (optional)\n2 pounds spaghetti, cooked al dente and tossed with olive oil\n extra minced parsley, for serving\n extra parmesan cheese, for serving",
         60,
         20,
         18,
         80,
         "Hard"
        ],
        [
         "2012-10-01",
         "pepperoni pizza burgers",
         "1-1/2 pound ground beef\n1/2 pound italian sausage ( a little more is fine!)\n1/2 teaspoon italian seasoning\n8 slices mozzarella or provolone cheese\n pepperoni slices\n8 tablespoons jarred marinara sauce\n grated parmesan cheese\n4 whole kaiser rolls or good hamburger buns",
         10,
         5,
         4,
         15,
         "Easy"
        ],
        [
         "2012-10-11",
         "supreme pizza burgers",
         "1-1/2 pound ground beef\n1/2 pound italian sausage ( a little more is fine!)\n1/2 teaspoon italian seasoning\n8 slices mozzarella or provolone cheese\n pepperoni slices\n8 tablespoons jarred marinara sauce, plus a little more\n grated parmesan cheese\n4 whole kaiser rolls or good hamburger buns\n thinly sliced red onion\n1 whole green bell pepper, sliced thick\n sliced black olives\n sliced mushrooms",
         15,
         5,
         4,
         20,
         "Easy"
        ],
        [
         "2011-09-22",
         "short ribs with wine and cream",
         "12 whole shortribs\n salt and pepper, to taste\n3 tablespoons olive oil\n1 cup red wine\n32 ounces, fluid beef broth or beef stock\n2 tablespoons minced fresh rosemary\n2 tablespoons grainy mustard\n1 cup heavy cream\n2 tablespoons capers (more if you want!)\n16 ounces, weight assorted mushrooms: cremini, oyster, baby bellas, etc.\n olive oil, for drizzling\n rosemary sprig, to be fancy",
         180,
         10,
         6,
         190,
         "Hard"
        ],
        [
         "2011-11-07",
         "pork roast with apples and onions",
         " pork\n3 tablespoons olive oil\n1 whole pork shoulder roast (also called pork butt)\n salt and pepper, to taste\n4 cups apple juice\n1 cup beef stock\n3 whole apples, cored and cut into wedges\n3 whole medium onions, sliced\n1 whole bay leaf\n wild rice\n2-1/2 cups wild rice\n4 cups water\n3 cups chicken stock\n1/2 stick 4 tablespoons butter\n1/2 cup chopped pecans",
         120,
         15,
         8,
         135,
         "Hard"
        ],
        [
         "2011-12-28",
         "spicy whiskey bbq sliders",
         "2 pounds ground meat (beef, bison, turkey)\n salt and pepper\n4 tablespoons butter\n1 whole large onion, diced\n1/2 cup whiskey\n1 cup barbecue sauce\n1/4 cup jarred jalapeno slices (more to taste)\n12 whole slider buns or dinner rolls, split",
         15,
         15,
         6,
         30,
         "Medium"
        ],
        [
         "2010-10-25",
         "beef with snow peas",
         "1-1/2 pound flank steak, trimmed of fat and sliced very thin against the grain\n1/2 cup low sodium soy sauce\n3 tablespoons sherry or cooking sherry\n2 tablespoons brown sugar\n2 tablespoons cornstarch\n1 tablespoon minced fresh ginger\n8 ounces, weight fresh snow peas, ends trimmed\n5 whole scallions, cut into haf-inch pieces on the diagonal\n salt as needed (use sparingly)\n3 tablespoons peanut or olive oil\n crushed red pepper, for sprinkling\n jasmine or long grain rice, cooked according to package",
         15,
         5,
         8,
         20,
         "Easy"
        ],
        [
         "2010-08-31",
         "beer-braised beef with onions",
         "1 whole chuck roast, 2 1/2 to 5 pounds\n salt and pepper to taste (be generous!)\n3 tablespoons olive oil\n4 whole onions, peeled and sliced thick\n5 cloves garlic, chopped\n2 cans beer\n1 teaspoon ground thyme\n1/2 teaspoon rosemary leaves",
         180,
         5,
         6,
         185,
         "Hard"
        ],
        [
         "2011-03-30",
         "beef with peppers",
         "1-1/2 pound flank steak, sliced very thin against the grain\n1/2 cup low sodium soy sauce\n3 tablespoons sherry\n2 tablespoons packed brown sugar\n2 tablespoons cornstarch\n1 tablespoon minced fresh ginger\n2 cloves garlic, minced\n1 teaspoon red chile paste (or a few dashes red chile oil)\n2 tablespoons canola oil\n1 whole medium yellow onion, sliced\n2 whole red bell peppers, cored and sliced into rings\n1 tablespoon diced fresh jalapeno (or 1 teaspoon dice hot pepper)\n red pepper flakes, for sprinkling\n cilantro leaves",
         15,
         15,
         8,
         30,
         "Medium"
        ],
        [
         "2009-11-30",
         "beef stew with mushrooms",
         "2 pounds beef stew meat (sirloin cut into cubes)\n2 tablespoons flour\n4 tablespoons butter\n2 tablespoons olive oil\n2 whole shallots, minced\n3 cloves garlic, minced\n8 ounces, weight cremini or white button mushrooms\n1/2 cup red wine\n1/2 can beef consomme\n salt and pepper, to taste\n pasta - cooked and drained\n2 sprigs fresh thyme\n2 tablespoons flour",
         30,
         25,
         8,
         55,
         "Medium"
        ],
        [
         "2011-01-14",
         "beef stew with beer and paprika",
         "3 tablespoons olive oil\n1 tablespoon butter\n2 pounds stew meat\n1 whole medium onion, diced\n3 cloves garlic, minced\n1 can beer, 12 ounce can\n4 cups beef stock (or 4 cups water + 4 beef bouillon cubes)\n2 cups water (additional, if needed)\n1 tablespoon worcestershire sauce\n2 tablespoons tomato paste\n1/2 teaspoon paprika\n1/2 teaspoon kosher salt\n freshly ground black pepper\n1-1/2 teaspoon sugar\n4 whole carrots, washed, unpeeled, and roughly sliced\n4 whole new potatoes, quartered\n minced parsley (optional)",
         150,
         10,
         6,
         160,
         "Hard"
        ],
        [
         "2011-05-12",
         "beef noodle salad bowls",
         "1 whole sirloin steak, 3/4 to 1 pound\n kosher salt to taste\n3/4 cups ponzo or regular soy sauce\n3 tablespoons pure sesame oil\n2 tablespoons olive oil\n2 tablespoons rice wine vinegar\n1 teaspoon hot chili oil (less if you can't handle heat!)\n2 cloves garlic, peeled and minced finely\n2 teaspoons minced fresh ginger\n2 tablespoons packed brown sugar\n1/2 cup sliced green onion\n8 ounces, weight thin noodles (i used thin spaghetti)\n cilantro leaves",
         10,
         10,
         4,
         20,
         "Easy"
        ],
        [
         "2010-07-12",
         "beef and bean burritos",
         "2 pounds ground beef\n1/2 whole medium onion\n1 can (7 ounce) mexican tomato sauce or enchilada sauce\n salt and pepper, to taste\n cumin, oregano, chili powder, garlic to taste\n1 can (28 ounce) refried beans\n3/4 cups grated cheddar cheese\n12 whole burrito-sized flour tortillas\n extra grated cheese, for sprinkling\n extra sauce, for drizzling\n cilantro leaves, optional\n optional filling ingredients: mexican rice, sour cream, guacamole, green chilies, pico de gallo",
         11,
         5,
         6,
         16,
         "Easy"
        ],
        [
         "2011-02-01",
         "beef fajita nachos",
         " flank steak\n1 whole flank steak\n1/3 cup olive oil\n2 whole limes, juiced\n4 whole canned chipotle peppers, with a little sauce\n4 cloves garlic, peeled\n1 whole handful of cilantro\n nachos\n2 whole yellow onion\n2 whole bell peppers, cored and sliced (can use different colors)\n olive oil, for frying\n sturdy tortilla chips\n8 ounces, weight cheese, grated (cheddar, jack, pepper jack, etc)\n guacamole\n salsa\n sour cream",
         12,
         1440,
         12,
         1452,
         "Hard"
        ],
        [
         "2009-03-26",
         "bbq comfort meatballs",
         " for meatballs\n1-1/2 pound ground beef\n3/4 cups oats\n1 cup milk\n3 tablespoons very finely minced onion\n1-1/2 teaspoon salt\n plenty of ground black pepper, to taste\n _____\n for cooking meatballs\n1 cup all-purpose flour (coating for frozen meatballs)\n canola oil\n _____\n for sauce\n1 cup ketchup\n2 tablespoons sugar\n3 tablespoons vinegar\n2 tablespoons worcestershire\n4 tablespoons (to 6 tablespoons) onion\n1 dash tabasco",
         45,
         15,
         6,
         60,
         "Medium"
        ],
        [
         "2010-12-29",
         "meatballs with peppers and pineapple",
         "1-1/4 pound ground beef\n1/2 whole onion, diced very finely\n1 whole egg\n1/2 cup panko bread crumbs (or regular breadcrumbs)\n1 teaspoon kosher salt\n freshly ground black pepper, to taste\n1/2 teaspoon crushed red pepper, more to taste\n1/4 cup all-purpose flour\n canola oil, for frying\n2 whole green bell peppers, seeded and diced roughly\n1-1/2 cup fresh pineapple chunks\n2 cups beef stock or broth\n2 tablespoons soy sauce\n1/2 cup sherry or white wine vinegar\n1/3 cup sugar\n1 tablespoon cornstarch\n salt to taste\n crushed red pepper, to taste\n extra beef stock if needed",
         20,
         20,
         8,
         40,
         "Medium"
        ],
        [
         "2011-03-07",
         "short ribs in tomato sauce",
         "8 whole beef short ribs\n2 tablespoons olive oil\n salt and pepper, to taste\n1 tablespoon sugar\n4 cloves garlic, crushed\n1 whole medium onion, diced\n1 cup red or white wine\n1 can (28 ounce) whole tomatoes\n1 can (14 ounce) tomato sauce\n1 teaspoon salt\n1/4 teaspoon red pepper flakes\n1/4 teaspoon ground thyme\n1 pound fettuccine\n grated parmesan cheese\n minced fresh parsley",
         240,
         10,
         6,
         250,
         "Hard"
        ],
        [
         "2012-10-22",
         "italian pot roast",
         "2 whole beef chuck roasts\n2 jars roasted red peppers\n2 jars artichoke hearts, drained\n6 whole sundried tomatoes (jarred)\n2 whole yellow onions, peeled and quartered\n28 ounces, fluid beef stock or beef broth\n2 tablespoons parsley flakes\n6 cloves garlic, peeled\n1 cup wine (red or white)\n2 tablespoons flour\n salt and pepper, to taste\n12 ounces, weight egg noodles\n fresh parsley, minced",
         240,
         1,
         12,
         241,
         "Hard"
        ],
        [
         "2009-01-18",
         "cajun meatloaf",
         "3 whole bell peppers (2 if they're large)\n2 whole medium onions\n1 bunch celery (5-6 ribs)\n8 cloves (to 10 cloves) of garlic\n6 tablespoons butter\n1 teaspoon salt\n1 tablespoon worcestershire\n1 teaspoon black pepper\n1 teaspoon ground nutmeg\n1 teaspoon cayenne pepper\n optional:  a few shakes of hot sauce\n2 cups ketchup, divided\n1/2 cup whole milk\n1 cup (to 2 cups) breadcrumbs\n2 pounds of lean ground beef (92% lean)\n1 pound ground pork\n3 whole eggs\n2 tablespoons honey",
         40,
         40,
         8,
         80,
         "Hard"
        ],
        [
         "2009-11-16",
         "braised short ribs",
         "8 whole beef short ribs\n kosher salt and pepper to taste\n1/4 cup all-purpose flour\n6 pieces pancetta, diced\n2 tablespoons olive oil\n1 whole medium onion, diced\n3 whole carrots, diced\n2 whole shallots, peeled and finely minced\n2 cups red or white wine\n2 cups beef or chicken broth (enough to almost cover ribs)\n2 sprigs thyme\n2 sprigs rosemary",
         120,
         20,
         4,
         140,
         "Hard"
        ],
        [
         "2007-06-27",
         "braised beef brisket",
         "2 cans beef consomme\n1/2 cup lemon juice\n1-1/2 cup soy sauce\n5 cloves chopped garlic\n2 tablespoons liquid smoke\n10 pounds beef brisket",
         360,
         10,
         12,
         370,
         "Hard"
        ],
        [
         "2010-08-04",
         "mushroom-and-swiss sliders with spicy fry sauce",
         "1/3 cup mayonnaise\n2 tablespoons ketchup\n1 teaspoon cayenne pepper (less if you're sensitive to spice!)\n4 tablespoons butter\n1/2 whole medium onion, finely diced\n8 ounces, weight white mushrooms, chopped finely\n1/2 cup white or red wine (optional)\n4 dashes worcestershire sauce\n kosher salt and freshly ground black pepper\n2 pounds ground beef\n4 tablespoons heavy whipping cream\n4 dashes worcestershire sauce\n1 teaspoon kosher salt\n freshly ground black pepper\n4 slices swiss cheese, cut into four squares\n8 whole dinner (or slider) rolls, split",
         30,
         15,
         4,
         45,
         "Medium"
        ],
        [
         "2010-09-20",
         "my favorite meatloaf",
         " meatloaf:\n1 cup whole milk\n6 slices white bread\n2 pounds ground beef\n1 cup (heaping) freshly grated parmesan cheese\n1/4 teaspoon seasoned salt\n3/4 teaspoons salt\n freshly ground black pepper\n1/3 cup minced flat-leaf parsley\n4 whole eggs, beaten\n10 slices thin/regular bacon\n sauce:\n1-1/2 cup ketchup\n1/3 cup brown sugar\n1 teaspoon dry mustard\n tabasco to taste",
         45,
         15,
         8,
         60,
         "Medium"
        ],
        [
         "2010-09-27",
         "burgundy mushrooms",
         "4 pounds white button mushrooms\n2 sticks butter\n1-1/2 teaspoon worcestershire sauce\n1 quarts burgundy wine (other reds will work)\n1 teaspoon freshly ground black pepper\n2 cups boiling water\n4 whole chicken bouillon cubes\n4 whole beef bouillon cubes\n1 teaspoon dill seed\n5 cloves garlic, peeled\n2 teaspoons salt",
         540,
         5,
         8,
         545,
         "Hard"
        ]
       ],
       "datasetInfos": [],
       "dbfsResultPath": null,
       "isJsonSchema": true,
       "metadata": {},
       "overflow": false,
       "plotOptions": {
        "customPlotOptions": {},
        "displayType": "table",
        "pivotAggregation": null,
        "pivotColumns": null,
        "xColumns": null,
        "yColumns": null
       },
       "removedWidgets": [],
       "schema": [
        {
         "metadata": "{}",
         "name": "Date Published",
         "type": "\"date\""
        },
        {
         "metadata": "{}",
         "name": "Dish_Name",
         "type": "\"string\""
        },
        {
         "metadata": "{}",
         "name": "Ingridients",
         "type": "\"string\""
        },
        {
         "metadata": "{}",
         "name": "Cook_Time",
         "type": "\"integer\""
        },
        {
         "metadata": "{}",
         "name": "Prep_Time",
         "type": "\"integer\""
        },
        {
         "metadata": "{}",
         "name": "Serving",
         "type": "\"integer\""
        },
        {
         "metadata": "{}",
         "name": "Total_cook_time",
         "type": "\"integer\""
        },
        {
         "metadata": "{}",
         "name": "Difficulty",
         "type": "\"string\""
        }
       ],
       "type": "table"
      }
     },
     "output_type": "display_data"
    },
    {
     "data": {
      "text/plain": [
       "Output can only be rendered in Databricks"
      ]
     },
     "metadata": {
      "application/vnd.databricks.v1.subcommand+json": {
       "bindings": {},
       "collapsed": false,
       "command": "%python\n__backend_agg_display_orig = display\n__backend_agg_dfs = []\ndef __backend_agg_display_new(df):\n    __backend_agg_df_modules = [\"pandas.core.frame\", \"databricks.koalas.frame\", \"pyspark.sql.dataframe\", \"pyspark.pandas.frame\"]\n    if (type(df).__module__ in __backend_agg_df_modules and type(df).__name__ == 'DataFrame') or isinstance(df, list):\n        __backend_agg_dfs.append(df)\n\ndisplay = __backend_agg_display_new\n\ndef __backend_agg_user_code_fn():\n    import base64\n    exec(base64.standard_b64decode(\"ZGlzcGxheShmaW5hbERGKQ==\").decode())\n\ntry:\n    # run user code\n    __backend_agg_user_code_fn()\n\n    #reset display function\n    display = __backend_agg_display_orig\n\n    if len(__backend_agg_dfs) > 0:\n        # create a temp view\n        if hasattr(__backend_agg_dfs[0], \"to_spark\"):\n            # koalas dataframe\n            __backend_agg_dfs[0].to_spark().createOrReplaceTempView(\"DatabricksView9ef6714\")\n        elif type(__backend_agg_dfs[0]).__module__ == \"pandas.core.frame\" or isinstance(__backend_agg_dfs[0], list):\n            # pandas dataframe\n            spark.createDataFrame(__backend_agg_dfs[0]).createOrReplaceTempView(\"DatabricksView9ef6714\")\n        else:\n            __backend_agg_dfs[0].createOrReplaceTempView(\"DatabricksView9ef6714\")\n        #run backend agg\n        display(spark.sql(\"\"\"WITH q AS (select * from DatabricksView9ef6714) SELECT `Serving`,AVG(`Total_cook_time`) `column_65bcb36f16`,`Difficulty` FROM q GROUP BY `Difficulty`,`Serving`\"\"\"))\n    else:\n        displayHTML(\"dataframe no longer exists. If you're using dataframe.display(), use display(dataframe) instead.\")\n\n\nfinally:\n    spark.sql(\"drop view if exists DatabricksView9ef6714\")\n    display = __backend_agg_display_orig\n    del __backend_agg_display_new\n    del __backend_agg_display_orig\n    del __backend_agg_dfs\n    del __backend_agg_user_code_fn\n\n",
       "commandTitle": "Serving vs Cook Time",
       "commandType": "auto",
       "commandVersion": 0,
       "commentThread": [],
       "commentsVisible": false,
       "contentSha256Hex": null,
       "customPlotOptions": {
        "redashChart": [
         {
          "key": "type",
          "value": "CHART"
         },
         {
          "key": "options",
          "value": {
           "alignYAxesAtZero": true,
           "coefficient": 1,
           "columnConfigurationMap": {
            "series": {
             "column": "Difficulty",
             "id": "column_cc3752cf21"
            },
            "x": {
             "column": "Serving",
             "id": "column_cc3752cf22"
            },
            "y": [
             {
              "column": "Total_cook_time",
              "id": "column_65bcb36f16",
              "transform": "AVG"
             }
            ]
           },
           "dateTimeFormat": "DD/MM/YYYY HH:mm",
           "direction": {
            "type": "counterclockwise"
           },
           "error_y": {
            "type": "data",
            "visible": true
           },
           "globalSeriesType": "column",
           "hideXAxis": false,
           "hideYAxes": false,
           "isAggregationOn": true,
           "legend": {
            "enabled": true,
            "placement": "auto",
            "traceorder": "normal"
           },
           "missingValuesAsZero": false,
           "numberFormat": "0,0[.]",
           "percentFormat": "0[.]00%",
           "reverseX": false,
           "series": {
            "error_y": {
             "type": "data",
             "visible": true
            },
            "percentValues": false,
            "stacking": "stack"
           },
           "seriesOptions": {
            "column_65bcb36f13": {
             "type": "column",
             "yAxis": 0
            },
            "column_65bcb36f16": {
             "type": "column",
             "yAxis": 0
            }
           },
           "showDataLabels": true,
           "sizemode": "diameter",
           "sortX": true,
           "sortY": true,
           "swappedAxes": true,
           "textFormat": "",
           "useAggregationsUi": true,
           "valuesOptions": {},
           "version": 2,
           "xAxis": {
            "labels": {
             "enabled": true
            },
            "title": {
             "text": "Dishes Serving"
            },
            "type": "category"
           },
           "yAxis": [
            {
             "title": {
              "text": "Average Total Cook Time (minutes)"
             },
             "type": "-"
            },
            {
             "opposite": true,
             "type": "-"
            }
           ]
          }
         }
        ]
       },
       "datasetPreviewNameToCmdIdMap": {},
       "diffDeletes": [],
       "diffInserts": [],
       "displayType": "redashChart",
       "error": null,
       "errorSummary": null,
       "errorTraceType": null,
       "finishTime": 0,
       "globalVars": {},
       "guid": "9aa53e7f-e7dd-44cc-9131-f2fdad520de6",
       "height": "auto",
       "hideCommandCode": false,
       "hideCommandResult": false,
       "iPythonMetadata": null,
       "inputWidgets": {},
       "isLockedInExamMode": false,
       "latestUser": "a user",
       "latestUserId": null,
       "listResultMetadata": null,
       "metadata": {
        "byteLimit": 2048000,
        "rowLimit": 10000
       },
       "nuid": "07637ead-43ec-4f61-93d9-f5e4e95eaa85",
       "origId": 1455509148126293,
       "parentHierarchy": [
        "f66784e9-c405-443b-ac66-89d730f2401f"
       ],
       "pivotAggregation": null,
       "pivotColumns": null,
       "position": 17,
       "resultDbfsErrorMessage": null,
       "resultDbfsStatus": "INLINED_IN_TREE",
       "results": null,
       "showCommandTitle": false,
       "startTime": 0,
       "state": "finished",
       "streamStates": {},
       "subcommandOptions": {
        "queryPlan": {
         "groups": [
          {
           "column": "Serving",
           "type": "column"
          },
          {
           "column": "Difficulty",
           "type": "column"
          }
         ],
         "selects": [
          {
           "column": "Serving",
           "type": "column"
          },
          {
           "alias": "column_65bcb36f16",
           "args": [
            {
             "column": "Total_cook_time",
             "type": "column"
            }
           ],
           "function": "AVG",
           "type": "function"
          },
          {
           "column": "Difficulty",
           "type": "column"
          }
         ]
        }
       },
       "submitTime": 0,
       "subtype": "tableResultSubCmd.visualization",
       "tableResultIndex": 0,
       "useConsistentColors": false,
       "version": "CommandV1",
       "width": "auto",
       "workflows": [],
       "xColumns": null,
       "yColumns": null
      }
     },
     "output_type": "display_data"
    },
    {
     "data": {
      "text/plain": [
       "Output can only be rendered in Databricks"
      ]
     },
     "metadata": {
      "application/vnd.databricks.v1.subcommand+json": {
       "bindings": {},
       "collapsed": false,
       "command": "%python\n__backend_agg_display_orig = display\n__backend_agg_dfs = []\ndef __backend_agg_display_new(df):\n    __backend_agg_df_modules = [\"pandas.core.frame\", \"databricks.koalas.frame\", \"pyspark.sql.dataframe\", \"pyspark.pandas.frame\"]\n    if (type(df).__module__ in __backend_agg_df_modules and type(df).__name__ == 'DataFrame') or isinstance(df, list):\n        __backend_agg_dfs.append(df)\n\ndisplay = __backend_agg_display_new\n\ndef __backend_agg_user_code_fn():\n    import base64\n    exec(base64.standard_b64decode(\"ZGlzcGxheShmaW5hbERGKQ==\").decode())\n\ntry:\n    # run user code\n    __backend_agg_user_code_fn()\n\n    #reset display function\n    display = __backend_agg_display_orig\n\n    if len(__backend_agg_dfs) > 0:\n        # create a temp view\n        if hasattr(__backend_agg_dfs[0], \"to_spark\"):\n            # koalas dataframe\n            __backend_agg_dfs[0].to_spark().createOrReplaceTempView(\"DatabricksView9a265d0\")\n        elif type(__backend_agg_dfs[0]).__module__ == \"pandas.core.frame\" or isinstance(__backend_agg_dfs[0], list):\n            # pandas dataframe\n            spark.createDataFrame(__backend_agg_dfs[0]).createOrReplaceTempView(\"DatabricksView9a265d0\")\n        else:\n            __backend_agg_dfs[0].createOrReplaceTempView(\"DatabricksView9a265d0\")\n        #run backend agg\n        display(spark.sql(\"\"\"WITH q AS (select * from DatabricksView9a265d0) SELECT `Difficulty`,COUNT(`Dish_Name`) `column_a812b05f6` FROM q GROUP BY `Difficulty`\"\"\"))\n    else:\n        displayHTML(\"dataframe no longer exists. If you're using dataframe.display(), use display(dataframe) instead.\")\n\n\nfinally:\n    spark.sql(\"drop view if exists DatabricksView9a265d0\")\n    display = __backend_agg_display_orig\n    del __backend_agg_display_new\n    del __backend_agg_display_orig\n    del __backend_agg_dfs\n    del __backend_agg_user_code_fn\n\n",
       "commandTitle": "Difficulty level of Beef dishes",
       "commandType": "auto",
       "commandVersion": 0,
       "commentThread": [],
       "commentsVisible": false,
       "contentSha256Hex": null,
       "customPlotOptions": {
        "redashChart": [
         {
          "key": "type",
          "value": "CHART"
         },
         {
          "key": "options",
          "value": {
           "alignYAxesAtZero": true,
           "coefficient": 1,
           "columnConfigurationMap": {
            "x": {
             "column": "Difficulty",
             "id": "column_a812b05f4"
            },
            "y": [
             {
              "column": "Dish_Name",
              "id": "column_a812b05f6",
              "transform": "COUNT"
             }
            ]
           },
           "dateTimeFormat": "DD/MM/YYYY HH:mm",
           "direction": {
            "type": "clockwise"
           },
           "error_y": {
            "type": "data",
            "visible": true
           },
           "globalSeriesType": "pie",
           "isAggregationOn": true,
           "legend": {
            "traceorder": "normal"
           },
           "missingValuesAsZero": false,
           "numBins": 20,
           "numberFormat": "0,0[.]0",
           "percentFormat": "0[.]%",
           "series": {
            "error_y": {
             "type": "data",
             "visible": true
            },
            "stacking": null
           },
           "seriesOptions": {
            "column_a812b05f6": {
             "name": ".",
             "type": "pie",
             "yAxis": 0,
             "zIndex": 0
            }
           },
           "showDataLabels": true,
           "sizemode": "diameter",
           "sortX": true,
           "sortY": true,
           "swappedAxes": false,
           "textFormat": "",
           "useAggregationsUi": true,
           "valuesOptions": {
            "Easy": {
             "color": "#3BD973"
            },
            "Medium": {
             "color": "#604FE9"
            }
           },
           "version": 2,
           "xAxis": {
            "labels": {
             "enabled": true
            },
            "type": "-"
           },
           "yAxis": [
            {
             "type": "-"
            },
            {
             "opposite": true,
             "type": "-"
            }
           ]
          }
         }
        ]
       },
       "datasetPreviewNameToCmdIdMap": {},
       "diffDeletes": [],
       "diffInserts": [],
       "displayType": "redashChart",
       "error": null,
       "errorSummary": null,
       "errorTraceType": null,
       "finishTime": 0,
       "globalVars": {},
       "guid": "addd7c82-1745-407d-828f-ff89933825e7",
       "height": "auto",
       "hideCommandCode": false,
       "hideCommandResult": false,
       "iPythonMetadata": null,
       "inputWidgets": {},
       "isLockedInExamMode": false,
       "latestUser": "a user",
       "latestUserId": null,
       "listResultMetadata": null,
       "metadata": {
        "byteLimit": 2048000,
        "rowLimit": 10000
       },
       "nuid": "b9cf0fc8-b3ad-4336-bbd6-b076ad790b5a",
       "origId": 1284123733209532,
       "parentHierarchy": [
        "f66784e9-c405-443b-ac66-89d730f2401f"
       ],
       "pivotAggregation": null,
       "pivotColumns": null,
       "position": 18,
       "resultDbfsErrorMessage": null,
       "resultDbfsStatus": "INLINED_IN_TREE",
       "results": null,
       "showCommandTitle": false,
       "startTime": 0,
       "state": "finished",
       "streamStates": {},
       "subcommandOptions": {
        "queryPlan": {
         "groups": [
          {
           "column": "Difficulty",
           "type": "column"
          }
         ],
         "selects": [
          {
           "column": "Difficulty",
           "type": "column"
          },
          {
           "alias": "column_a812b05f6",
           "args": [
            {
             "column": "Dish_Name",
             "type": "column"
            }
           ],
           "function": "COUNT",
           "type": "function"
          }
         ]
        }
       },
       "submitTime": 0,
       "subtype": "tableResultSubCmd.visualization",
       "tableResultIndex": 0,
       "useConsistentColors": false,
       "version": "CommandV1",
       "width": "auto",
       "workflows": [],
       "xColumns": null,
       "yColumns": null
      }
     },
     "output_type": "display_data"
    },
    {
     "data": {
      "text/plain": [
       "Output can only be rendered in Databricks"
      ]
     },
     "metadata": {
      "application/vnd.databricks.v1.subcommand+json": {
       "bindings": {},
       "collapsed": false,
       "command": "display(finalDF)",
       "commandTitle": "DIsh Search",
       "commandType": "auto",
       "commandVersion": 0,
       "commentThread": [],
       "commentsVisible": false,
       "contentSha256Hex": null,
       "customPlotOptions": {
        "redashChart": [
         {
          "key": "type",
          "value": "TABLE"
         },
         {
          "key": "options",
          "value": {
           "columns": [
            {
             "alignContent": "right",
             "allowHTML": false,
             "allowSearch": false,
             "booleanValues": [
              "false",
              "true"
             ],
             "dateTimeFormat": "DD/MM/YYYY",
             "displayAs": "datetime",
             "highlightLinks": false,
             "imageHeight": "",
             "imageTitleTemplate": "{{ @ }}",
             "imageUrlTemplate": "{{ @ }}",
             "imageWidth": "",
             "linkOpenInNewTab": true,
             "linkTextTemplate": "{{ @ }}",
             "linkTitleTemplate": "{{ @ }}",
             "linkUrlTemplate": "{{ @ }}",
             "name": "Date Published",
             "order": 100000,
             "preserveWhitespace": false,
             "title": "Date Published",
             "type": "date",
             "useMonospaceFont": false,
             "visible": false
            },
            {
             "alignContent": "left",
             "allowHTML": false,
             "allowSearch": true,
             "booleanValues": [
              "false",
              "true"
             ],
             "displayAs": "string",
             "highlightLinks": false,
             "imageHeight": "",
             "imageTitleTemplate": "{{ @ }}",
             "imageUrlTemplate": "{{ @ }}",
             "imageWidth": "",
             "linkOpenInNewTab": true,
             "linkTextTemplate": "{{ @ }}",
             "linkTitleTemplate": "{{ @ }}",
             "linkUrlTemplate": "{{ @ }}",
             "name": "Dish_Name",
             "order": 100001,
             "preserveWhitespace": false,
             "title": "Dish_Name",
             "type": "string",
             "useMonospaceFont": false,
             "visible": true
            },
            {
             "alignContent": "left",
             "allowHTML": false,
             "allowSearch": false,
             "booleanValues": [
              "false",
              "true"
             ],
             "displayAs": "string",
             "highlightLinks": false,
             "imageHeight": "",
             "imageTitleTemplate": "{{ @ }}",
             "imageUrlTemplate": "{{ @ }}",
             "imageWidth": "",
             "linkOpenInNewTab": true,
             "linkTextTemplate": "{{ @ }}",
             "linkTitleTemplate": "{{ @ }}",
             "linkUrlTemplate": "{{ @ }}",
             "name": "Ingridients",
             "order": 100002,
             "preserveWhitespace": false,
             "title": "Ingridients",
             "type": "string",
             "useMonospaceFont": false,
             "visible": false
            },
            {
             "alignContent": "right",
             "allowHTML": false,
             "allowSearch": false,
             "booleanValues": [
              "false",
              "true"
             ],
             "displayAs": "number",
             "highlightLinks": false,
             "imageHeight": "",
             "imageTitleTemplate": "{{ @ }}",
             "imageUrlTemplate": "{{ @ }}",
             "imageWidth": "",
             "linkOpenInNewTab": true,
             "linkTextTemplate": "{{ @ }}",
             "linkTitleTemplate": "{{ @ }}",
             "linkUrlTemplate": "{{ @ }}",
             "name": "Cook_Time",
             "numberFormat": "0",
             "order": 100003,
             "preserveWhitespace": false,
             "title": "Cook_Time",
             "type": "integer",
             "useMonospaceFont": false,
             "visible": false
            },
            {
             "alignContent": "right",
             "allowHTML": false,
             "allowSearch": false,
             "booleanValues": [
              "false",
              "true"
             ],
             "displayAs": "number",
             "highlightLinks": false,
             "imageHeight": "",
             "imageTitleTemplate": "{{ @ }}",
             "imageUrlTemplate": "{{ @ }}",
             "imageWidth": "",
             "linkOpenInNewTab": true,
             "linkTextTemplate": "{{ @ }}",
             "linkTitleTemplate": "{{ @ }}",
             "linkUrlTemplate": "{{ @ }}",
             "name": "Prep_Time",
             "numberFormat": "0",
             "order": 100004,
             "preserveWhitespace": false,
             "title": "Prep_Time",
             "type": "integer",
             "useMonospaceFont": false,
             "visible": false
            },
            {
             "alignContent": "center",
             "allowHTML": false,
             "allowSearch": false,
             "booleanValues": [
              "false",
              "true"
             ],
             "displayAs": "number",
             "highlightLinks": false,
             "imageHeight": "",
             "imageTitleTemplate": "{{ @ }}",
             "imageUrlTemplate": "{{ @ }}",
             "imageWidth": "",
             "linkOpenInNewTab": true,
             "linkTextTemplate": "{{ @ }}",
             "linkTitleTemplate": "{{ @ }}",
             "linkUrlTemplate": "{{ @ }}",
             "name": "Serving",
             "numberFormat": "0",
             "order": 100005,
             "preserveWhitespace": false,
             "title": "Serving",
             "type": "integer",
             "useMonospaceFont": false,
             "visible": true
            },
            {
             "alignContent": "center",
             "allowHTML": false,
             "allowSearch": false,
             "booleanValues": [
              "false",
              "true"
             ],
             "displayAs": "number",
             "highlightLinks": false,
             "imageHeight": "",
             "imageTitleTemplate": "{{ @ }}",
             "imageUrlTemplate": "{{ @ }}",
             "imageWidth": "",
             "linkOpenInNewTab": true,
             "linkTextTemplate": "{{ @ }}",
             "linkTitleTemplate": "{{ @ }}",
             "linkUrlTemplate": "{{ @ }}",
             "name": "Total_cook_time",
             "numberFormat": "0",
             "order": 100006,
             "preserveWhitespace": false,
             "title": "Total_cook_time",
             "type": "integer",
             "useMonospaceFont": false,
             "visible": true
            },
            {
             "alignContent": "left",
             "allowHTML": false,
             "allowSearch": false,
             "booleanValues": [
              "false",
              "true"
             ],
             "displayAs": "string",
             "highlightLinks": false,
             "imageHeight": "",
             "imageTitleTemplate": "{{ @ }}",
             "imageUrlTemplate": "{{ @ }}",
             "imageWidth": "",
             "linkOpenInNewTab": true,
             "linkTextTemplate": "{{ @ }}",
             "linkTitleTemplate": "{{ @ }}",
             "linkUrlTemplate": "{{ @ }}",
             "name": "Difficulty",
             "order": 100007,
             "preserveWhitespace": false,
             "title": "Difficulty",
             "type": "string",
             "useMonospaceFont": false,
             "visible": true
            }
           ],
           "condensed": true,
           "itemsPerPage": 5,
           "paginationSize": "default",
           "version": 2,
           "withRowNumber": false
          }
         }
        ]
       },
       "datasetPreviewNameToCmdIdMap": {},
       "diffDeletes": [],
       "diffInserts": [],
       "displayType": "redashChart",
       "error": null,
       "errorSummary": null,
       "errorTraceType": null,
       "finishTime": 0,
       "globalVars": {},
       "guid": "49d0fad6-c576-49e0-b51d-e8eb6d9e04c0",
       "height": "auto",
       "hideCommandCode": false,
       "hideCommandResult": false,
       "iPythonMetadata": null,
       "inputWidgets": {},
       "isLockedInExamMode": false,
       "latestUser": "a user",
       "latestUserId": null,
       "listResultMetadata": null,
       "metadata": {
        "byteLimit": 2048000,
        "rowLimit": 10000
       },
       "nuid": "304ed3d9-8357-4d3c-bb91-a4e53eb73cfe",
       "origId": 1284123733209534,
       "parentHierarchy": [
        "f66784e9-c405-443b-ac66-89d730f2401f"
       ],
       "pivotAggregation": null,
       "pivotColumns": null,
       "position": 19,
       "resultDbfsErrorMessage": null,
       "resultDbfsStatus": "INLINED_IN_TREE",
       "results": null,
       "showCommandTitle": false,
       "startTime": 0,
       "state": "finished",
       "streamStates": {},
       "subcommandOptions": {},
       "submitTime": 0,
       "subtype": "tableResultSubCmd.visualization",
       "tableResultIndex": 0,
       "useConsistentColors": false,
       "version": "CommandV1",
       "width": "auto",
       "workflows": [],
       "xColumns": null,
       "yColumns": null
      }
     },
     "output_type": "display_data"
    },
    {
     "data": {
      "text/plain": [
       "Output can only be rendered in Databricks"
      ]
     },
     "metadata": {
      "application/vnd.databricks.v1.subcommand+json": {
       "bindings": {},
       "collapsed": false,
       "command": "%python\n__backend_agg_display_orig = display\n__backend_agg_dfs = []\ndef __backend_agg_display_new(df):\n    __backend_agg_df_modules = [\"pandas.core.frame\", \"databricks.koalas.frame\", \"pyspark.sql.dataframe\", \"pyspark.pandas.frame\"]\n    if (type(df).__module__ in __backend_agg_df_modules and type(df).__name__ == 'DataFrame') or isinstance(df, list):\n        __backend_agg_dfs.append(df)\n\ndisplay = __backend_agg_display_new\n\ndef __backend_agg_user_code_fn():\n    import base64\n    exec(base64.standard_b64decode(\"ZGlzcGxheShmaW5hbERGKQ==\").decode())\n\ntry:\n    # run user code\n    __backend_agg_user_code_fn()\n\n    #reset display function\n    display = __backend_agg_display_orig\n\n    if len(__backend_agg_dfs) > 0:\n        # create a temp view\n        if hasattr(__backend_agg_dfs[0], \"to_spark\"):\n            # koalas dataframe\n            __backend_agg_dfs[0].to_spark().createOrReplaceTempView(\"DatabricksView78c88bb\")\n        elif type(__backend_agg_dfs[0]).__module__ == \"pandas.core.frame\" or isinstance(__backend_agg_dfs[0], list):\n            # pandas dataframe\n            spark.createDataFrame(__backend_agg_dfs[0]).createOrReplaceTempView(\"DatabricksView78c88bb\")\n        else:\n            __backend_agg_dfs[0].createOrReplaceTempView(\"DatabricksView78c88bb\")\n        #run backend agg\n        display(spark.sql(\"\"\"WITH q AS (select * from DatabricksView78c88bb) SELECT `Difficulty`,COUNT(DISTINCT `Dish_Name`) `Dish_Name_alias` FROM q GROUP BY `Difficulty` ORDER BY `Difficulty` DESC\"\"\"))\n    else:\n        displayHTML(\"dataframe no longer exists. If you're using dataframe.display(), use display(dataframe) instead.\")\n\n\nfinally:\n    spark.sql(\"drop view if exists DatabricksView78c88bb\")\n    display = __backend_agg_display_orig\n    del __backend_agg_display_new\n    del __backend_agg_display_orig\n    del __backend_agg_dfs\n    del __backend_agg_user_code_fn\n\n",
       "commandTitle": "Dishes Count",
       "commandType": "auto",
       "commandVersion": 0,
       "commentThread": [],
       "commentsVisible": false,
       "contentSha256Hex": null,
       "customPlotOptions": {
        "redashChart": [
         {
          "key": "type",
          "value": "PIVOT_TABLE"
         },
         {
          "key": "options",
          "value": {
           "cell": {
            "field": "Dish_Name",
            "transform": {
             "fn": "countdistinct"
            }
           },
           "cellNumberFormat": "",
           "colorCellsByValue": true,
           "columns": [],
           "rows": [
            {
             "field": "Difficulty",
             "sort": "descending"
            }
           ]
          }
         }
        ]
       },
       "datasetPreviewNameToCmdIdMap": {},
       "diffDeletes": [],
       "diffInserts": [],
       "displayType": "redashChart",
       "error": null,
       "errorSummary": null,
       "errorTraceType": null,
       "finishTime": 0,
       "globalVars": {},
       "guid": "a466ca1b-b010-4744-9f82-b16c46b4665e",
       "height": "auto",
       "hideCommandCode": false,
       "hideCommandResult": false,
       "iPythonMetadata": null,
       "inputWidgets": {},
       "isLockedInExamMode": false,
       "latestUser": "a user",
       "latestUserId": null,
       "listResultMetadata": null,
       "metadata": {
        "byteLimit": 2048000,
        "rowLimit": 10000
       },
       "nuid": "9ac123dc-0890-43de-a148-0aa22c57b3ba",
       "origId": 1284123733209535,
       "parentHierarchy": [
        "f66784e9-c405-443b-ac66-89d730f2401f"
       ],
       "pivotAggregation": null,
       "pivotColumns": null,
       "position": 20,
       "resultDbfsErrorMessage": null,
       "resultDbfsStatus": "INLINED_IN_TREE",
       "results": null,
       "showCommandTitle": false,
       "startTime": 0,
       "state": "finished",
       "streamStates": {},
       "subcommandOptions": {
        "queryPlan": {
         "groups": [
          {
           "column": "Difficulty",
           "type": "column"
          }
         ],
         "order_by": [
          {
           "direction": "desc",
           "expression": {
            "identifier": "Difficulty",
            "kind": "identifier"
           }
          }
         ],
         "selects": [
          {
           "column": "Difficulty",
           "type": "column"
          },
          {
           "alias": "Dish_Name_alias",
           "args": [
            {
             "column": "Dish_Name",
             "type": "column"
            }
           ],
           "function": "COUNT_DISTINCT",
           "type": "function"
          }
         ]
        }
       },
       "submitTime": 0,
       "subtype": "tableResultSubCmd.visualization",
       "tableResultIndex": 0,
       "useConsistentColors": false,
       "version": "CommandV1",
       "width": "auto",
       "workflows": [],
       "xColumns": null,
       "yColumns": null
      }
     },
     "output_type": "display_data"
    },
    {
     "data": {
      "text/plain": [
       "Output can only be rendered in Databricks"
      ]
     },
     "metadata": {
      "application/vnd.databricks.v1.subcommand+json": {
       "bindings": {},
       "collapsed": false,
       "command": "%python\n__backend_agg_display_orig = display\n__backend_agg_dfs = []\ndef __backend_agg_display_new(df):\n    __backend_agg_df_modules = [\"pandas.core.frame\", \"databricks.koalas.frame\", \"pyspark.sql.dataframe\", \"pyspark.pandas.frame\"]\n    if (type(df).__module__ in __backend_agg_df_modules and type(df).__name__ == 'DataFrame') or isinstance(df, list):\n        __backend_agg_dfs.append(df)\n\ndisplay = __backend_agg_display_new\n\ndef __backend_agg_user_code_fn():\n    import base64\n    exec(base64.standard_b64decode(\"ZGlzcGxheShmaW5hbERGKQ==\").decode())\n\ntry:\n    # run user code\n    __backend_agg_user_code_fn()\n\n    #reset display function\n    display = __backend_agg_display_orig\n\n    if len(__backend_agg_dfs) > 0:\n        # create a temp view\n        if hasattr(__backend_agg_dfs[0], \"to_spark\"):\n            # koalas dataframe\n            __backend_agg_dfs[0].to_spark().createOrReplaceTempView(\"DatabricksView61c86ce\")\n        elif type(__backend_agg_dfs[0]).__module__ == \"pandas.core.frame\" or isinstance(__backend_agg_dfs[0], list):\n            # pandas dataframe\n            spark.createDataFrame(__backend_agg_dfs[0]).createOrReplaceTempView(\"DatabricksView61c86ce\")\n        else:\n            __backend_agg_dfs[0].createOrReplaceTempView(\"DatabricksView61c86ce\")\n        #run backend agg\n        display(spark.sql(\"\"\"WITH q AS (select * from DatabricksView61c86ce) SELECT `Total_cook_time`,`Serving`,`Serving`,`Serving` FROM q\"\"\"))\n    else:\n        displayHTML(\"dataframe no longer exists. If you're using dataframe.display(), use display(dataframe) instead.\")\n\n\nfinally:\n    spark.sql(\"drop view if exists DatabricksView61c86ce\")\n    display = __backend_agg_display_orig\n    del __backend_agg_display_new\n    del __backend_agg_display_orig\n    del __backend_agg_dfs\n    del __backend_agg_user_code_fn\n\n",
       "commandTitle": "Visualization 1",
       "commandType": "auto",
       "commandVersion": 0,
       "commentThread": [],
       "commentsVisible": false,
       "contentSha256Hex": null,
       "customPlotOptions": {
        "redashChart": [
         {
          "key": "type",
          "value": "CHART"
         },
         {
          "key": "options",
          "value": {
           "alignYAxesAtZero": true,
           "coefficient": 5,
           "columnConfigurationMap": {
            "series": {
             "column": "Serving",
             "id": "column_cc3752cf70"
            },
            "size": {
             "column": "Serving",
             "id": "column_cc3752cf79"
            },
            "x": {
             "column": "Total_cook_time",
             "id": "column_cc3752cf64"
            },
            "y": [
             {
              "column": "Serving",
              "id": "column_cc3752cf76"
             }
            ]
           },
           "dateTimeFormat": "DD/MM/YYYY HH:mm",
           "direction": {
            "type": "counterclockwise"
           },
           "error_y": {
            "type": "data",
            "visible": true
           },
           "globalSeriesType": "bubble",
           "legend": {
            "enabled": false,
            "traceorder": "normal"
           },
           "missingValuesAsZero": true,
           "numberFormat": "0,0[.]00000",
           "percentFormat": "0[.]00%",
           "series": {
            "error_y": {
             "type": "data",
             "visible": true
            },
            "stacking": null
           },
           "seriesOptions": {
            "Difficulty": {
             "type": "bubble",
             "yAxis": 0
            },
            "Ingridients": {
             "type": "bubble",
             "yAxis": 0
            },
            "Serving": {
             "type": "bubble",
             "yAxis": 0
            },
            "Total_cook_time": {
             "type": "bubble",
             "yAxis": 0
            },
            "column_cc3752cf26": {
             "type": "bubble",
             "yAxis": 0
            }
           },
           "showDataLabels": false,
           "sizemode": "diameter",
           "sortX": true,
           "sortY": true,
           "swappedAxes": false,
           "textFormat": "",
           "useAggregationsUi": true,
           "valuesOptions": {},
           "version": 2,
           "xAxis": {
            "labels": {
             "enabled": true
            },
            "type": "-"
           },
           "yAxis": [
            {
             "type": "-"
            },
            {
             "opposite": true,
             "type": "-"
            }
           ]
          }
         }
        ]
       },
       "datasetPreviewNameToCmdIdMap": {},
       "diffDeletes": [],
       "diffInserts": [],
       "displayType": "redashChart",
       "error": null,
       "errorSummary": null,
       "errorTraceType": null,
       "finishTime": 0,
       "globalVars": {},
       "guid": "10179e1a-86b5-475d-a347-2a3a8b42537e",
       "height": "auto",
       "hideCommandCode": false,
       "hideCommandResult": false,
       "iPythonMetadata": null,
       "inputWidgets": {},
       "isLockedInExamMode": false,
       "latestUser": "a user",
       "latestUserId": null,
       "listResultMetadata": null,
       "metadata": {
        "byteLimit": 2048000,
        "rowLimit": 10000
       },
       "nuid": "29d22e5f-9756-47fa-b4bd-350c2d227ee2",
       "origId": 1284123733209536,
       "parentHierarchy": [
        "f66784e9-c405-443b-ac66-89d730f2401f"
       ],
       "pivotAggregation": null,
       "pivotColumns": null,
       "position": 21,
       "resultDbfsErrorMessage": null,
       "resultDbfsStatus": "INLINED_IN_TREE",
       "results": null,
       "showCommandTitle": false,
       "startTime": 0,
       "state": "finished",
       "streamStates": {},
       "subcommandOptions": {
        "queryPlan": {
         "selects": [
          {
           "column": "Total_cook_time",
           "type": "column"
          },
          {
           "column": "Serving",
           "type": "column"
          },
          {
           "column": "Serving",
           "type": "column"
          },
          {
           "column": "Serving",
           "type": "column"
          }
         ]
        }
       },
       "submitTime": 0,
       "subtype": "tableResultSubCmd.visualization",
       "tableResultIndex": 0,
       "useConsistentColors": false,
       "version": "CommandV1",
       "width": "auto",
       "workflows": [],
       "xColumns": null,
       "yColumns": null
      }
     },
     "output_type": "display_data"
    },
    {
     "data": {
      "text/plain": [
       "Output can only be rendered in Databricks"
      ]
     },
     "metadata": {
      "application/vnd.databricks.v1.subcommand+json": {
       "bindings": {},
       "collapsed": false,
       "command": "display(finalDF)",
       "commandTitle": "Dishes Count",
       "commandType": "auto",
       "commandVersion": 0,
       "commentThread": [],
       "commentsVisible": false,
       "contentSha256Hex": null,
       "customPlotOptions": {
        "redashChart": [
         {
          "key": "type",
          "value": "COUNTER"
         },
         {
          "key": "options",
          "value": {
           "countRow": true,
           "counterColName": "Dish_Name",
           "counterLabel": "Total Dishes",
           "formatTargetValue": false,
           "rowNumber": 1,
           "stringDecChar": ".",
           "stringDecimal": 0,
           "stringThouSep": ",",
           "targetColName": "",
           "targetRowNumber": 1,
           "tooltipFormat": "0,0.000"
          }
         }
        ]
       },
       "datasetPreviewNameToCmdIdMap": {},
       "diffDeletes": [],
       "diffInserts": [],
       "displayType": "redashChart",
       "error": null,
       "errorSummary": null,
       "errorTraceType": null,
       "finishTime": 0,
       "globalVars": {},
       "guid": "f4c3e09c-718a-4e59-b6b4-1c8c53da74f3",
       "height": "auto",
       "hideCommandCode": false,
       "hideCommandResult": false,
       "iPythonMetadata": null,
       "inputWidgets": {},
       "isLockedInExamMode": false,
       "latestUser": "a user",
       "latestUserId": null,
       "listResultMetadata": null,
       "metadata": {
        "byteLimit": 2048000,
        "rowLimit": 10000
       },
       "nuid": "7c1d98d0-2249-457a-95d4-0dfab033ba7c",
       "origId": 1284123733209537,
       "parentHierarchy": [
        "f66784e9-c405-443b-ac66-89d730f2401f"
       ],
       "pivotAggregation": null,
       "pivotColumns": null,
       "position": 22,
       "resultDbfsErrorMessage": null,
       "resultDbfsStatus": "INLINED_IN_TREE",
       "results": null,
       "showCommandTitle": false,
       "startTime": 0,
       "state": "finished",
       "streamStates": {},
       "subcommandOptions": {},
       "submitTime": 0,
       "subtype": "tableResultSubCmd.visualization",
       "tableResultIndex": 0,
       "useConsistentColors": false,
       "version": "CommandV1",
       "width": "auto",
       "workflows": [],
       "xColumns": null,
       "yColumns": null
      }
     },
     "output_type": "display_data"
    },
    {
     "data": {
      "text/plain": [
       "Output can only be rendered in Databricks"
      ]
     },
     "metadata": {
      "application/vnd.databricks.v1.subcommand+json": {
       "bindings": {},
       "collapsed": false,
       "command": "%python\n__backend_agg_display_orig = display\n__backend_agg_dfs = []\ndef __backend_agg_display_new(df):\n    __backend_agg_df_modules = [\"pandas.core.frame\", \"databricks.koalas.frame\", \"pyspark.sql.dataframe\", \"pyspark.pandas.frame\"]\n    if (type(df).__module__ in __backend_agg_df_modules and type(df).__name__ == 'DataFrame') or isinstance(df, list):\n        __backend_agg_dfs.append(df)\n\ndisplay = __backend_agg_display_new\n\ndef __backend_agg_user_code_fn():\n    import base64\n    exec(base64.standard_b64decode(\"ZGlzcGxheShmaW5hbERGKQ==\").decode())\n\ntry:\n    # run user code\n    __backend_agg_user_code_fn()\n\n    #reset display function\n    display = __backend_agg_display_orig\n\n    if len(__backend_agg_dfs) > 0:\n        # create a temp view\n        if hasattr(__backend_agg_dfs[0], \"to_spark\"):\n            # koalas dataframe\n            __backend_agg_dfs[0].to_spark().createOrReplaceTempView(\"DatabricksViewe12279d\")\n        elif type(__backend_agg_dfs[0]).__module__ == \"pandas.core.frame\" or isinstance(__backend_agg_dfs[0], list):\n            # pandas dataframe\n            spark.createDataFrame(__backend_agg_dfs[0]).createOrReplaceTempView(\"DatabricksViewe12279d\")\n        else:\n            __backend_agg_dfs[0].createOrReplaceTempView(\"DatabricksViewe12279d\")\n        #run backend agg\n        display(spark.sql(\"\"\"WITH q AS (select * from DatabricksViewe12279d) SELECT `Serving`,`Serving`,COUNT(`Dish_Name`) `column_cc3752cf110` FROM q GROUP BY `Serving`\"\"\"))\n    else:\n        displayHTML(\"dataframe no longer exists. If you're using dataframe.display(), use display(dataframe) instead.\")\n\n\nfinally:\n    spark.sql(\"drop view if exists DatabricksViewe12279d\")\n    display = __backend_agg_display_orig\n    del __backend_agg_display_new\n    del __backend_agg_display_orig\n    del __backend_agg_dfs\n    del __backend_agg_user_code_fn\n\n",
       "commandTitle": "Visualization 2",
       "commandType": "auto",
       "commandVersion": 0,
       "commentThread": [],
       "commentsVisible": false,
       "contentSha256Hex": null,
       "customPlotOptions": {
        "redashChart": [
         {
          "key": "type",
          "value": "CHART"
         },
         {
          "key": "options",
          "value": {
           "alignYAxesAtZero": true,
           "coefficient": 1,
           "columnConfigurationMap": {
            "series": {
             "column": "Serving",
             "id": "column_cc3752cf112"
            },
            "x": {
             "column": "Serving",
             "id": "column_cc3752cf115"
            },
            "y": [
             {
              "column": "Dish_Name",
              "id": "column_cc3752cf110",
              "transform": "COUNT"
             }
            ]
           },
           "dateTimeFormat": "DD/MM/YYYY HH:mm",
           "direction": {
            "type": "counterclockwise"
           },
           "error_y": {
            "type": "data",
            "visible": true
           },
           "globalSeriesType": "column",
           "isAggregationOn": true,
           "legend": {
            "enabled": false,
            "traceorder": "normal"
           },
           "missingValuesAsZero": false,
           "numBins": 9,
           "numberFormat": "0,0[.]",
           "percentFormat": "0[.]00%",
           "series": {
            "error_y": {
             "type": "data",
             "visible": true
            },
            "stacking": "stack"
           },
           "seriesOptions": {
            "10": {
             "color": "#FB8D3D"
            },
            "12": {
             "color": "#FB8D3D"
            },
            "16": {
             "color": "#FB8D3D"
            },
            "18": {
             "color": "#FB8D3D"
            },
            "2": {
             "color": "#FB8D3D"
            },
            "6": {
             "color": "#FB8D3D"
            },
            "8": {
             "color": "#FB8D3D"
            },
            "Difficulty": {
             "type": "column",
             "yAxis": 0
            },
            "Serving": {
             "type": "column",
             "yAxis": 0
            },
            "Total_cook_time": {
             "type": "column",
             "yAxis": 0
            },
            "column_cc3752cf110": {
             "type": "column",
             "yAxis": 0
            }
           },
           "showDataLabels": true,
           "sizemode": "diameter",
           "sortX": true,
           "sortY": true,
           "swappedAxes": false,
           "textFormat": "",
           "useAggregationsUi": true,
           "valuesOptions": {},
           "version": 2,
           "xAxis": {
            "labels": {
             "enabled": true
            },
            "title": {
             "text": "Per/Serving"
            },
            "type": "-"
           },
           "yAxis": [
            {
             "title": {
              "text": "Dish Count"
             },
             "type": "-"
            },
            {
             "opposite": true,
             "type": "-"
            }
           ]
          }
         }
        ]
       },
       "datasetPreviewNameToCmdIdMap": {},
       "diffDeletes": [],
       "diffInserts": [],
       "displayType": "redashChart",
       "error": null,
       "errorSummary": null,
       "errorTraceType": null,
       "finishTime": 0,
       "globalVars": {},
       "guid": "e4e528b8-6f98-4cb4-b28c-3d32b2606858",
       "height": "auto",
       "hideCommandCode": false,
       "hideCommandResult": false,
       "iPythonMetadata": null,
       "inputWidgets": {},
       "isLockedInExamMode": false,
       "latestUser": "a user",
       "latestUserId": null,
       "listResultMetadata": null,
       "metadata": {
        "byteLimit": 2048000,
        "rowLimit": 10000
       },
       "nuid": "692daf50-fdf8-4c9e-ba0b-367c5621c9e7",
       "origId": 1284123733209538,
       "parentHierarchy": [
        "f66784e9-c405-443b-ac66-89d730f2401f"
       ],
       "pivotAggregation": null,
       "pivotColumns": null,
       "position": 23,
       "resultDbfsErrorMessage": null,
       "resultDbfsStatus": "INLINED_IN_TREE",
       "results": null,
       "showCommandTitle": false,
       "startTime": 0,
       "state": "finished",
       "streamStates": {},
       "subcommandOptions": {
        "queryPlan": {
         "groups": [
          {
           "column": "Serving",
           "type": "column"
          },
          {
           "column": "Serving",
           "type": "column"
          }
         ],
         "selects": [
          {
           "column": "Serving",
           "type": "column"
          },
          {
           "column": "Serving",
           "type": "column"
          },
          {
           "alias": "column_cc3752cf110",
           "args": [
            {
             "column": "Dish_Name",
             "type": "column"
            }
           ],
           "function": "COUNT",
           "type": "function"
          }
         ]
        }
       },
       "submitTime": 0,
       "subtype": "tableResultSubCmd.visualization",
       "tableResultIndex": 0,
       "useConsistentColors": false,
       "version": "CommandV1",
       "width": "auto",
       "workflows": [],
       "xColumns": null,
       "yColumns": null
      }
     },
     "output_type": "display_data"
    }
   ],
   "source": [
    "display(finalDF)"
   ]
  },
  {
   "cell_type": "code",
   "execution_count": null,
   "metadata": {
    "application/vnd.databricks.v1+cell": {
     "cellMetadata": {
      "byteLimit": 2048000,
      "rowLimit": 10000
     },
     "inputWidgets": {},
     "nuid": "9a2fb482-4958-46de-9ed3-94e7ead1106c",
     "showTitle": false,
     "title": ""
    }
   },
   "outputs": [],
   "source": []
  },
  {
   "cell_type": "code",
   "execution_count": null,
   "metadata": {
    "application/vnd.databricks.v1+cell": {
     "cellMetadata": {
      "byteLimit": 2048000,
      "rowLimit": 10000
     },
     "inputWidgets": {},
     "nuid": "e5daaa7d-4002-4304-a805-2b373e0b39ea",
     "showTitle": false,
     "title": ""
    }
   },
   "outputs": [],
   "source": []
  }
 ],
 "metadata": {
  "application/vnd.databricks.v1+notebook": {
   "dashboards": [
    {
     "elements": [
      {
       "dashboardResultIndex": null,
       "elementNUID": "07637ead-43ec-4f61-93d9-f5e4e95eaa85",
       "elementType": "command",
       "guid": "0622a593-7e90-4aed-b942-f6be67a9f853",
       "options": {
        "autoScaleImg": false,
        "scale": 0,
        "showRunButton": true,
        "showTitle": true,
        "title": "Serving vs COOK TIME vs Difficulty",
        "titleAlign": "left"
       },
       "position": {
        "height": 8,
        "width": 16,
        "x": 0,
        "y": 0,
        "z": null
       },
       "resultIndex": null
      },
      {
       "dashboardResultIndex": null,
       "elementNUID": "29d22e5f-9756-47fa-b4bd-350c2d227ee2",
       "elementType": "command",
       "guid": "142d044f-7d5f-4b8e-b3cc-81a85717fd84",
       "options": {
        "autoScaleImg": false,
        "scale": 0,
        "showRunButton": true,
        "showTitle": true,
        "title": "Cook time based on Servings",
        "titleAlign": "left"
       },
       "position": {
        "height": 8,
        "width": 16,
        "x": 0,
        "y": 8,
        "z": null
       },
       "resultIndex": null
      },
      {
       "dashboardResultIndex": null,
       "elementNUID": "692daf50-fdf8-4c9e-ba0b-367c5621c9e7",
       "elementType": "command",
       "guid": "1da08f1a-a021-4712-b64b-8126446dab10",
       "options": null,
       "position": {
        "height": 6,
        "width": 8,
        "x": 16,
        "y": 10,
        "z": null
       },
       "resultIndex": null
      },
      {
       "dashboardResultIndex": null,
       "elementNUID": "b9cf0fc8-b3ad-4336-bbd6-b076ad790b5a",
       "elementType": "command",
       "guid": "5049b9ff-40f7-4c84-ae56-908effbd9551",
       "options": {
        "autoScaleImg": false,
        "scale": 0,
        "showRunButton": true,
        "showTitle": true,
        "title": "Dishes Difficulty",
        "titleAlign": "center"
       },
       "position": {
        "height": 6,
        "width": 8,
        "x": 16,
        "y": 4,
        "z": null
       },
       "resultIndex": null
      },
      {
       "dashboardResultIndex": null,
       "elementNUID": "7c1d98d0-2249-457a-95d4-0dfab033ba7c",
       "elementType": "command",
       "guid": "e5210591-9d2a-4d42-a3bd-30f23f31a1f9",
       "options": null,
       "position": {
        "height": 4,
        "width": 8,
        "x": 16,
        "y": 0,
        "z": null
       },
       "resultIndex": null
      }
     ],
     "globalVars": {},
     "guid": "503cad99-30db-4eba-871a-16b5aa5ae6e7",
     "layoutOption": {
      "grid": true,
      "stack": true
     },
     "nuid": "5a8b1c09-8e77-4efe-a0c8-5e08c505ddfb",
     "origId": 2548224602223789,
     "title": "Beef Recipe's Analytics",
     "version": "DashboardViewV1",
     "width": 1024
    }
   ],
   "language": "python",
   "notebookMetadata": {
    "pythonIndentUnit": 2
   },
   "notebookName": "SPARK_EXAM_ADDO",
   "notebookOrigID": 4203067164803781,
   "widgets": {}
  },
  "kernelspec": {
   "display_name": "Python 3 (ipykernel)",
   "language": "python",
   "name": "python3"
  },
  "language_info": {
   "codemirror_mode": {
    "name": "ipython",
    "version": 3
   },
   "file_extension": ".py",
   "mimetype": "text/x-python",
   "name": "python",
   "nbconvert_exporter": "python",
   "pygments_lexer": "ipython3",
   "version": "3.9.7"
  }
 },
 "nbformat": 4,
 "nbformat_minor": 4
}
